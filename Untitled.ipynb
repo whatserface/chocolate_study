{
 "cells": [
  {
   "cell_type": "markdown",
   "id": "ee7dac6e",
   "metadata": {},
   "source": [
    "## &emsp;&emsp;<ins style=\"color: Green;\"><span style=\"color: white;\">Setting up</span></ins>"
   ]
  },
  {
   "cell_type": "markdown",
   "id": "5db93e08",
   "metadata": {},
   "source": [
    "Installing all required libraries"
   ]
  },
  {
   "cell_type": "code",
   "execution_count": 31,
   "id": "6990d29f",
   "metadata": {},
   "outputs": [
    {
     "name": "stdout",
     "output_type": "stream",
     "text": [
      "Requirement already satisfied: pandas in c:\\users\\perev\\anaconda3\\envs\\geo_env\\lib\\site-packages (1.5.0)\n",
      "Requirement already satisfied: numpy>=1.21.0 in c:\\users\\perev\\anaconda3\\envs\\geo_env\\lib\\site-packages (from pandas) (1.23.3)\n",
      "Requirement already satisfied: pytz>=2020.1 in c:\\users\\perev\\anaconda3\\envs\\geo_env\\lib\\site-packages (from pandas) (2022.2.1)\n",
      "Requirement already satisfied: python-dateutil>=2.8.1 in c:\\users\\perev\\anaconda3\\envs\\geo_env\\lib\\site-packages (from pandas) (2.8.2)\n",
      "Requirement already satisfied: six>=1.5 in c:\\users\\perev\\anaconda3\\envs\\geo_env\\lib\\site-packages (from python-dateutil>=2.8.1->pandas) (1.16.0)\n",
      "Note: you may need to restart the kernel to use updated packages.\n"
     ]
    }
   ],
   "source": [
    "%pip install pandas"
   ]
  },
  {
   "cell_type": "markdown",
   "id": "356fe2ef",
   "metadata": {},
   "source": [
    "## &emsp;&emsp;<ins style=\"color: SteelBlue;\"><span style=\"color: GhostWhite;\">Coding in pandas</span></ins>"
   ]
  },
  {
   "cell_type": "markdown",
   "id": "9368181e",
   "metadata": {},
   "source": [
    "Importing libraries and reading csv\n"
   ]
  },
  {
   "cell_type": "code",
   "execution_count": 32,
   "id": "31ed4106",
   "metadata": {},
   "outputs": [],
   "source": [
    "import pandas as pd\n",
    "import numpy as np\n",
    "import matplotlib.pyplot as plt\n",
    "\n",
    "df = pd.read_csv('chocolate_bars.csv')"
   ]
  },
  {
   "cell_type": "markdown",
   "id": "afd66186",
   "metadata": {},
   "source": [
    "Checking whether there are null records in dataframe"
   ]
  },
  {
   "cell_type": "code",
   "execution_count": 33,
   "id": "61b42ac8",
   "metadata": {},
   "outputs": [
    {
     "name": "stdout",
     "output_type": "stream",
     "text": [
      "<class 'pandas.core.frame.DataFrame'>\n",
      "RangeIndex: 2530 entries, 0 to 2529\n",
      "Data columns (total 11 columns):\n",
      " #   Column            Non-Null Count  Dtype  \n",
      "---  ------            --------------  -----  \n",
      " 0   id                2530 non-null   int64  \n",
      " 1   manufacturer      2530 non-null   object \n",
      " 2   company_location  2530 non-null   object \n",
      " 3   year_reviewed     2530 non-null   int64  \n",
      " 4   bean_origin       2530 non-null   object \n",
      " 5   bar_name          2530 non-null   object \n",
      " 6   cocoa_percent     2530 non-null   float64\n",
      " 7   num_ingredients   2443 non-null   float64\n",
      " 8   ingredients       2443 non-null   object \n",
      " 9   review            2530 non-null   object \n",
      " 10  rating            2530 non-null   float64\n",
      "dtypes: float64(3), int64(2), object(6)\n",
      "memory usage: 217.5+ KB\n"
     ]
    }
   ],
   "source": [
    "df.info()"
   ]
  },
  {
   "cell_type": "markdown",
   "id": "0d6b102d",
   "metadata": {},
   "source": [
    "### Handling null values inside of loaded dataframe\n",
    "Since there are 87 records with null values in `num_ingredients` and `ingredients` columns, we will fill them with most common values in corresponding columns"
   ]
  },
  {
   "cell_type": "code",
   "execution_count": 34,
   "id": "56e6d5bf",
   "metadata": {
    "scrolled": true
   },
   "outputs": [],
   "source": [
    "most_common_ingredients = df['ingredients'].value_counts().index[0] # '(Coffee) beans, sugar, cocoa butter\n",
    "df['ingredients'].fillna(most_common_ingredients, inplace=True)\n",
    "df['num_ingredients'].fillna(most_common_ingredients.count(',') + 1, inplace=True)"
   ]
  },
  {
   "cell_type": "markdown",
   "id": "bf786bdb",
   "metadata": {},
   "source": [
    "#### Success :)"
   ]
  },
  {
   "cell_type": "code",
   "execution_count": 35,
   "id": "d26daf9d",
   "metadata": {},
   "outputs": [
    {
     "name": "stdout",
     "output_type": "stream",
     "text": [
      "<class 'pandas.core.frame.DataFrame'>\n",
      "RangeIndex: 2530 entries, 0 to 2529\n",
      "Data columns (total 11 columns):\n",
      " #   Column            Non-Null Count  Dtype  \n",
      "---  ------            --------------  -----  \n",
      " 0   id                2530 non-null   int64  \n",
      " 1   manufacturer      2530 non-null   object \n",
      " 2   company_location  2530 non-null   object \n",
      " 3   year_reviewed     2530 non-null   int64  \n",
      " 4   bean_origin       2530 non-null   object \n",
      " 5   bar_name          2530 non-null   object \n",
      " 6   cocoa_percent     2530 non-null   float64\n",
      " 7   num_ingredients   2530 non-null   float64\n",
      " 8   ingredients       2530 non-null   object \n",
      " 9   review            2530 non-null   object \n",
      " 10  rating            2530 non-null   float64\n",
      "dtypes: float64(3), int64(2), object(6)\n",
      "memory usage: 217.5+ KB\n"
     ]
    }
   ],
   "source": [
    "df.info()"
   ]
  },
  {
   "cell_type": "markdown",
   "id": "4c490ea9",
   "metadata": {},
   "source": [
    "Also, we'll check if there are any duplicates"
   ]
  },
  {
   "cell_type": "code",
   "execution_count": 36,
   "id": "11d84a75",
   "metadata": {},
   "outputs": [
    {
     "data": {
      "text/plain": [
       "0"
      ]
     },
     "execution_count": 36,
     "metadata": {},
     "output_type": "execute_result"
    }
   ],
   "source": [
    "len(df[df.duplicated()])"
   ]
  },
  {
   "cell_type": "markdown",
   "id": "b2e10f14",
   "metadata": {},
   "source": [
    "## &emsp;<ins style=\"color: MediumSlateBlue;\"><span style=\"color: white;\">Graphs</span></ins>"
   ]
  },
  {
   "cell_type": "markdown",
   "id": "21b0ba6b",
   "metadata": {},
   "source": [
    "#### Displaying top 5 countries that collaborate with most chocolate brands, sorting by their average `rating`"
   ]
  },
  {
   "cell_type": "code",
   "execution_count": 37,
   "id": "ff1b95bd",
   "metadata": {},
   "outputs": [
    {
     "data": {
      "image/png": "[encoded data removed]",
      "text/plain": [
       "<Figure size 1100x600 with 1 Axes>"
      ]
     },
     "metadata": {},
     "output_type": "display_data"
    }
   ],
   "source": [
    "top_export_countries = df.groupby('bean_origin')['rating']\\\n",
    "    .agg(['mean', 'max', 'min']).round(2)\\\n",
    "    .sort_values(['mean', 'max'], ascending=False).head()\n",
    "fig = top_export_countries.plot(kind='bar', title=f'Top 5 exporters of cocoa beans',figsize=(11, 6), yticks=np.concatenate([np.arange(1, 3, .5), np.arange(2.75, 4.25, .25), (5,)]), ylim=(0, 5), rot=0)\n",
    "fig.set_xlabel('Bean origin', labelpad=18, fontsize=14) # adding padding to xlabel\n",
    "fig.set_ylabel('Quality', labelpad=28, fontsize=14, rotation=0) # adding padding to xlabel\n",
    "plt.show()"
   ]
  },
  {
   "cell_type": "markdown",
   "id": "4c52799a",
   "metadata": {},
   "source": [
    "#### Displaying top 5 countries by number of chocolate brands that this country collaborates with, sorting by their average `rating`"
   ]
  },
  {
   "cell_type": "code",
   "execution_count": 38,
   "id": "ad582f8f",
   "metadata": {},
   "outputs": [
    {
     "data": {
      "image/png": "[encoded data removed]",
      "text/plain": [
       "<Figure size 640x480 with 1 Axes>"
      ]
     },
     "metadata": {},
     "output_type": "display_data"
    }
   ],
   "source": [
    "df.value_counts('company_location').head(10).plot(kind='pie', title='Top 10 exporters of chocolate');"
   ]
  },
  {
   "cell_type": "code",
   "execution_count": 39,
   "id": "88d960d2",
   "metadata": {},
   "outputs": [
    {
     "data": {
      "image/png": "[encoded data removed]",
      "text/plain": [
       "<Figure size 640x480 with 1 Axes>"
      ]
     },
     "metadata": {},
     "output_type": "display_data"
    }
   ],
   "source": [
    "a = df.groupby('cocoa_percent')['rating'].mean()\n",
    "a.reset_index().plot(kind='scatter', x='cocoa_percent', y='rating', xlabel='cocoa %', ylabel='quality', title='Relation between percentage of cocoa and quality of chocolate')\n",
    "plt.plot([50, 100], [3.75, 2.25], 'k-');"
   ]
  },
  {
   "cell_type": "code",
   "execution_count": 40,
   "id": "b99a9e69",
   "metadata": {},
   "outputs": [
    {
     "data": {
      "image/png": "[encoded data removed]",
      "text/plain": [
       "<Figure size 640x480 with 1 Axes>"
      ]
     },
     "metadata": {},
     "output_type": "display_data"
    }
   ],
   "source": [
    "a = (df.assign(cocoa_percent=pd.cut(df['cocoa_percent'],\n",
    "                         range(40, 110, 10), labels=[f'{i}-{i+10}' for i in range(40, 100, 10)]))\n",
    "   .groupby('cocoa_percent')['rating'].mean()\n",
    "    ) # grouping chocolate by \n",
    "graph = a.plot(kind='bar', ylim=(2.1, 3.3), rot=0, xlabel='Cocoa %', title='')\n",
    "graph.set_ylabel('Quality', rotation=0, labelpad=20)\n",
    "plt.show()"
   ]
  },
  {
   "cell_type": "markdown",
   "id": "84cdec46",
   "metadata": {},
   "source": [
    "## &emsp;&emsp;<ins style=\"color: Turquoise;\"><span style=\"color: white;\">World cholopleths</span></ins>"
   ]
  },
  {
   "cell_type": "markdown",
   "id": "4b253161",
   "metadata": {},
   "source": [
    "Let's import library for drawing choropleths"
   ]
  },
  {
   "cell_type": "code",
   "execution_count": 41,
   "id": "9707d327",
   "metadata": {},
   "outputs": [],
   "source": [
    "import plotly.graph_objects as go"
   ]
  },
  {
   "cell_type": "markdown",
   "id": "d6a2dafe",
   "metadata": {},
   "source": [
    "### For making a choropleth we need to assign to each country an ISO code"
   ]
  },
  {
   "cell_type": "code",
   "execution_count": 70,
   "id": "5f3eed1b",
   "metadata": {},
   "outputs": [
    {
     "data": {
      "text/html": [
       "<style>\n",
       "\t.spoiler{\n",
       "\t\tbackground-color: gray;\n",
       "\t\tcolor: transparent;\n",
       "\t\tuser-select: none;\n",
       "\t}\n",
       "\n",
       "\t.spoiler:hover{\n",
       "\t\tbackground-color: inherit;\n",
       "\t\tcolor: LightSkyBlue;\n",
       "\t}\n",
       "</style>\n",
       "<h3>For that we read a table of country codes from web-site.</h3><span class=\"spoiler\"> If site will output wrong data (which is possible, since they fight web-scraping), then we'll <b>use saved csv file</b></span>\n"
      ],
      "text/plain": [
       "<IPython.core.display.HTML object>"
      ]
     },
     "metadata": {},
     "output_type": "display_data"
    }
   ],
   "source": [
    "%%html\n",
    "<style>\n",
    "\t.spoiler{\n",
    "\t\tbackground-color: gray;\n",
    "\t\tcolor: transparent;\n",
    "\t\tuser-select: none;\n",
    "\t}\n",
    "\n",
    "\t.spoiler:hover{\n",
    "\t\tbackground-color: inherit;\n",
    "\t\tcolor: LightSkyBlue;\n",
    "\t}\n",
    "</style>\n",
    "<h3>For that we read a table of country codes from web-site.</h3><span class=\"spoiler\"> If site will output wrong data (which is possible, since they fight web-scraping), then we'll <b>use saved csv file</b></span>"
   ]
  },
  {
   "cell_type": "code",
   "execution_count": 51,
   "id": "e2027b0a",
   "metadata": {},
   "outputs": [
    {
     "name": "stdout",
     "output_type": "stream",
     "text": [
      "     Unnamed: 0            Country ISO 3166-1alpha2 ISO 3166-1alpha3  \\\n",
      "0             0        Afghanistan               AF              AFG   \n",
      "1             1      Åland Islands               AX              ALA   \n",
      "2             2            Albania               AL              ALB   \n",
      "3             3            Algeria               DZ              DZA   \n",
      "4             4     American Samoa               AS              ASM   \n",
      "..          ...                ...              ...              ...   \n",
      "244         244  Wallis and Futuna               WF              WLF   \n",
      "245         245     Western Sahara               EH              ESH   \n",
      "246         246              Yemen               YE              YEM   \n",
      "247         247             Zambia               ZM              ZMB   \n",
      "248         248           Zimbabwe               ZW              ZWE   \n",
      "\n",
      "     ISO 3166-1numeric  IOC Fips 10 LicensePlate Domain  \n",
      "0                  4.0  AFG      AF          AFG    .af  \n",
      "1                248.0  NaN     NaN           AX    .ax  \n",
      "2                  8.0  ALB      AL           AL    .al  \n",
      "3                 12.0  ALG      AG           DZ    .dz  \n",
      "4                 16.0  ASA      AQ          USA    .as  \n",
      "..                 ...  ...     ...          ...    ...  \n",
      "244              876.0  NaN      WF          NaN    .wf  \n",
      "245              732.0  NaN      WI          WSA    .eh  \n",
      "246              887.0  YEM      YM          YEM    .ye  \n",
      "247              894.0  ZAM      ZA            Z    .zm  \n",
      "248              716.0  ZIM      ZI           ZW    .zw  \n",
      "\n",
      "[249 rows x 9 columns]\n"
     ]
    }
   ],
   "source": [
    "a = pd.read_html('https://www.worlddata.info/countrycodes.php')[0]\n",
    "if not 'ISO 3166-1alpha3' in a.columns:\n",
    "\ta = pd.read_csv('iso_table.csv')\n",
    "\tprint(a)"
   ]
  },
  {
   "cell_type": "markdown",
   "id": "7c754c5a",
   "metadata": {},
   "source": [
    "Then we map a string value of a Country to its ISO code for its subsequent mapping"
   ]
  },
  {
   "cell_type": "code",
   "execution_count": 43,
   "id": "d8e5347c",
   "metadata": {},
   "outputs": [
    {
     "data": {
      "text/plain": [
       "{'Afghanistan': 'AFG',\n",
       " 'Åland Islands': 'ALA',\n",
       " 'Albania': 'ALB',\n",
       " 'Algeria': 'DZA',\n",
       " 'American Samoa': 'ASM',\n",
       " 'Andorra': 'AND',\n",
       " 'Angola': 'AGO',\n",
       " 'Anguilla': 'AIA',\n",
       " 'Antarctica': 'ATA',\n",
       " 'Antigua and Barbuda': 'ATG',\n",
       " 'Argentina': 'ARG',\n",
       " 'Armenia': 'ARM',\n",
       " 'Aruba': 'ABW',\n",
       " 'Australia': 'AUS',\n",
       " 'Austria': 'AUT',\n",
       " 'Azerbaijan': 'AZE',\n",
       " 'Bahamas': 'BHS',\n",
       " 'Bahrain': 'BHR',\n",
       " 'Bangladesh': 'BGD',\n",
       " 'Barbados': 'BRB',\n",
       " 'Belarus': 'BLR',\n",
       " 'Belgium': 'BEL',\n",
       " 'Belize': 'BLZ',\n",
       " 'Benin': 'BEN',\n",
       " 'Bermuda': 'BMU',\n",
       " 'Bhutan': 'BTN',\n",
       " 'Bolivia': 'BOL',\n",
       " 'Bonaire, Saint Eustatius and Saba': 'BES',\n",
       " 'Bosnia and Herzegovina': 'BIH',\n",
       " 'Botswana': 'BWA',\n",
       " 'Bouvet Island': 'BVT',\n",
       " 'Brazil': 'BRA',\n",
       " 'British Indian Ocean Territory': 'IOT',\n",
       " 'British Virgin Islands': 'VGB',\n",
       " 'Brunei': 'BRN',\n",
       " 'Bulgaria': 'BGR',\n",
       " 'Burkina Faso': 'BFA',\n",
       " 'Burma': 'MMR',\n",
       " 'Burundi': 'BDI',\n",
       " 'Cambodia': 'KHM',\n",
       " 'Cameroon': 'CMR',\n",
       " 'Canada': 'CAN',\n",
       " 'Cape Verde': 'CPV',\n",
       " 'Cayman Islands': 'CYM',\n",
       " 'Central African Republic': 'CAF',\n",
       " 'Chad': 'TCD',\n",
       " 'Chile': 'CHL',\n",
       " 'China': 'CHN',\n",
       " 'Christmas Island': 'CXR',\n",
       " 'Cocos (Keeling) Islands': 'CCK',\n",
       " 'Colombia': 'COL',\n",
       " 'Comoros': 'COM',\n",
       " 'Cook Islands': 'COK',\n",
       " 'Costa Rica': 'CRI',\n",
       " 'Croatia': 'HRV',\n",
       " 'Cuba': 'CUB',\n",
       " 'Curacao': 'CUW',\n",
       " 'Cyprus': 'CYP',\n",
       " 'Czechia': 'CZE',\n",
       " 'Democratic Republic of the Congo': 'COD',\n",
       " 'Denmark': 'DNK',\n",
       " 'Djibouti': 'DJI',\n",
       " 'Dominica': 'DMA',\n",
       " 'Dominican Republic': 'DOM',\n",
       " 'East Timor': 'TLS',\n",
       " 'Ecuador': 'ECU',\n",
       " 'Egypt': 'EGY',\n",
       " 'El Salvador': 'SLV',\n",
       " 'Equatorial Guinea': 'GNQ',\n",
       " 'Eritrea': 'ERI',\n",
       " 'Estonia': 'EST',\n",
       " 'Eswatini': 'SWZ',\n",
       " 'Ethiopia': 'ETH',\n",
       " 'Falkland Islands': 'FLK',\n",
       " 'Faroe Islands': 'FRO',\n",
       " 'Federated States of Micronesia': 'FSM',\n",
       " 'Fiji': 'FJI',\n",
       " 'Finland': 'FIN',\n",
       " 'France': 'FRA',\n",
       " 'French Guiana': 'GUF',\n",
       " 'French Polynesia': 'PYF',\n",
       " 'French Southern and Antarctic Lands': 'ATF',\n",
       " 'Gabon': 'GAB',\n",
       " 'Gambia': 'GMB',\n",
       " 'Georgia': 'GEO',\n",
       " 'Germany': 'DEU',\n",
       " 'Ghana': 'GHA',\n",
       " 'Gibraltar': 'GIB',\n",
       " 'Greece': 'GRC',\n",
       " 'Greenland': 'GRL',\n",
       " 'Grenada': 'GRD',\n",
       " 'Guadeloupe': 'GLP',\n",
       " 'Guam': 'GUM',\n",
       " 'Guatemala': 'GTM',\n",
       " 'Guernsey': 'GGY',\n",
       " 'Guinea': 'GIN',\n",
       " 'Guinea-Bissau': 'GNB',\n",
       " 'Guyana': 'GUY',\n",
       " 'Haiti': 'HTI',\n",
       " 'Heard Island and McDonald Islands': 'HMD',\n",
       " 'Honduras': 'HND',\n",
       " 'Hong Kong': 'HKG',\n",
       " 'Hungary': 'HUN',\n",
       " 'Iceland': 'ISL',\n",
       " 'India': 'IND',\n",
       " 'Indonesia': 'IDN',\n",
       " 'Iran': 'IRN',\n",
       " 'Iraq': 'IRQ',\n",
       " 'Ireland': 'IRL',\n",
       " 'Isle of Man': 'IMN',\n",
       " 'Israel': 'ISR',\n",
       " 'Italy': 'ITA',\n",
       " 'Ivory Coast': 'CIV',\n",
       " 'Jamaica': 'JAM',\n",
       " 'Japan': 'JPN',\n",
       " 'Jersey': 'JEY',\n",
       " 'Jordan': 'JOR',\n",
       " 'Kazakhstan': 'KAZ',\n",
       " 'Kenya': 'KEN',\n",
       " 'Kiribati': 'KIR',\n",
       " 'Kosovo': 'XKX',\n",
       " 'Kuwait': 'KWT',\n",
       " 'Kyrgyzstan': 'KGZ',\n",
       " 'Laos': 'LAO',\n",
       " 'Latvia': 'LVA',\n",
       " 'Lebanon': 'LBN',\n",
       " 'Lesotho': 'LSO',\n",
       " 'Liberia': 'LBR',\n",
       " 'Libya': 'LBY',\n",
       " 'Liechtenstein': 'LIE',\n",
       " 'Lithuania': 'LTU',\n",
       " 'Luxembourg': 'LUX',\n",
       " 'Macao': 'MAC',\n",
       " 'Madagascar': 'MDG',\n",
       " 'Malawi': 'MWI',\n",
       " 'Malaysia': 'MYS',\n",
       " 'Maldives': 'MDV',\n",
       " 'Mali': 'MLI',\n",
       " 'Malta': 'MLT',\n",
       " 'Marshall Islands': 'MHL',\n",
       " 'Martinique': 'MTQ',\n",
       " 'Mauritania': 'MRT',\n",
       " 'Mauritius': 'MUS',\n",
       " 'Mayotte': 'MYT',\n",
       " 'Mexico': 'MEX',\n",
       " 'Moldova': 'MDA',\n",
       " 'Mongolia': 'MNG',\n",
       " 'Montenegro': 'MNE',\n",
       " 'Montserrat': 'MSR',\n",
       " 'Morocco': 'MAR',\n",
       " 'Mozambique': 'MOZ',\n",
       " 'Namibia': 'NAM',\n",
       " 'Nauru': 'NRU',\n",
       " 'Nepal': 'NPL',\n",
       " 'Netherlands': 'NLD',\n",
       " 'New Caledonia': 'NCL',\n",
       " 'New Zealand': 'NZL',\n",
       " 'Nicaragua': 'NIC',\n",
       " 'Niger': 'NER',\n",
       " 'Nigeria': 'NGA',\n",
       " 'Niue': 'NIU',\n",
       " 'Norfolk Island': 'NFK',\n",
       " 'North Korea': 'PRK',\n",
       " 'North Macedonia': 'MKD',\n",
       " 'Northern Mariana Islands': 'MNP',\n",
       " 'Norway': 'NOR',\n",
       " 'Oman': 'OMN',\n",
       " 'Pakistan': 'PAK',\n",
       " 'Palau': 'PLW',\n",
       " 'Palestine': 'PSE',\n",
       " 'Panama': 'PAN',\n",
       " 'Papua New Guinea': 'PNG',\n",
       " 'Paraguay': 'PRY',\n",
       " 'Peru': 'PER',\n",
       " 'Philippines': 'PHL',\n",
       " 'Pitcairn Islands': 'PCN',\n",
       " 'Poland': 'POL',\n",
       " 'Portugal': 'PRT',\n",
       " 'Principality of Monaco': 'MCO',\n",
       " 'Puerto Rico': 'PRI',\n",
       " 'Qatar': 'QAT',\n",
       " 'Republic of the Congo': 'COG',\n",
       " 'Reunion': 'REU',\n",
       " 'Romania': 'ROU',\n",
       " 'Russia': 'RUS',\n",
       " 'Rwanda': 'RWA',\n",
       " 'Saint Barthelemy': 'BLM',\n",
       " 'Saint Helena, Ascension and Tristan da Cunha': 'SHN',\n",
       " 'Saint Kitts and Nevis': 'KNA',\n",
       " 'Saint Lucia': 'LCA',\n",
       " 'Saint Martin': 'MAF',\n",
       " 'Saint Pierre and Miquelon': 'SPM',\n",
       " 'Saint Vincent and the Grenadines': 'VCT',\n",
       " 'Samoa': 'WSM',\n",
       " 'San Marino': 'SMR',\n",
       " 'Sao Tome and Principe': 'STP',\n",
       " 'Saudi Arabia': 'SAU',\n",
       " 'Senegal': 'SEN',\n",
       " 'Serbia': 'SRB',\n",
       " 'Seychelles': 'SYC',\n",
       " 'Sierra Leone': 'SLE',\n",
       " 'Singapore': 'SGP',\n",
       " 'Sint Maarten': 'SXM',\n",
       " 'Slovakia': 'SVK',\n",
       " 'Slovenia': 'SVN',\n",
       " 'Solomon Islands': 'SLB',\n",
       " 'Somalia': 'SOM',\n",
       " 'South Africa': 'ZAF',\n",
       " 'South Georgia and South Sandwich Islands': 'SGS',\n",
       " 'South Korea': 'KOR',\n",
       " 'South Sudan': 'SSD',\n",
       " 'Spain': 'ESP',\n",
       " 'Sri Lanka': 'LKA',\n",
       " 'Sudan': 'SDN',\n",
       " 'Suriname': 'SUR',\n",
       " 'Svalbard': 'SJM',\n",
       " 'Sweden': 'SWE',\n",
       " 'Switzerland': 'CHE',\n",
       " 'Syria': 'SYR',\n",
       " 'Taiwan': 'TWN',\n",
       " 'Tajikistan': 'TJK',\n",
       " 'Tanzania': 'TZA',\n",
       " 'Thailand': 'THA',\n",
       " 'Togo': 'TGO',\n",
       " 'Tokelau': 'TKL',\n",
       " 'Tonga': 'TON',\n",
       " 'Trinidad and Tobago': 'TTO',\n",
       " 'Tunisia': 'TUN',\n",
       " 'Turkey': 'TUR',\n",
       " 'Turkmenistan': 'TKM',\n",
       " 'Turks and Caicos Islands': 'TCA',\n",
       " 'Tuvalu': 'TUV',\n",
       " 'Uganda': 'UGA',\n",
       " 'Ukraine': 'UKR',\n",
       " 'United Arab Emirates': 'ARE',\n",
       " 'United Kingdom': 'GBR',\n",
       " 'United States': 'USA',\n",
       " 'Uruguay': 'URY',\n",
       " 'Uzbekistan': 'UZB',\n",
       " 'Vanuatu': 'VUT',\n",
       " 'Vatican City': 'VAT',\n",
       " 'Venezuela': 'VEN',\n",
       " 'Vietnam': 'VNM',\n",
       " 'Virgin Islands': 'VIR',\n",
       " 'Wallis and Futuna': 'WLF',\n",
       " 'Western Sahara': 'ESH',\n",
       " 'Yemen': 'YEM',\n",
       " 'Zambia': 'ZMB',\n",
       " 'Zimbabwe': 'ZWE'}"
      ]
     },
     "execution_count": 43,
     "metadata": {},
     "output_type": "execute_result"
    }
   ],
   "source": [
    "iso_mapping = dict(zip(a['Country'], a['ISO 3166-1alpha3']))\n",
    "iso_mapping"
   ]
  },
  {
   "cell_type": "markdown",
   "id": "b1f4f849",
   "metadata": {},
   "source": [
    "### We'll have two choropleths: one showing countries apropos **chocolate's origin**, another likewise apropos chocolate's **company country**."
   ]
  },
  {
   "cell_type": "code",
   "execution_count": 139,
   "id": "7a689a2b",
   "metadata": {},
   "outputs": [
    {
     "data": {
      "text/html": [
       "<div>\n",
       "<style scoped>\n",
       "    .dataframe tbody tr th:only-of-type {\n",
       "        vertical-align: middle;\n",
       "    }\n",
       "\n",
       "    .dataframe tbody tr th {\n",
       "        vertical-align: top;\n",
       "    }\n",
       "\n",
       "    .dataframe thead th {\n",
       "        text-align: right;\n",
       "    }\n",
       "</style>\n",
       "<table border=\"1\" class=\"dataframe\">\n",
       "  <thead>\n",
       "    <tr style=\"text-align: right;\">\n",
       "      <th></th>\n",
       "      <th>country</th>\n",
       "      <th>number</th>\n",
       "      <th>rating</th>\n",
       "      <th>year_reviewed</th>\n",
       "      <th>ISO</th>\n",
       "    </tr>\n",
       "  </thead>\n",
       "  <tbody>\n",
       "    <tr>\n",
       "      <th>0</th>\n",
       "      <td>Argentina</td>\n",
       "      <td>9</td>\n",
       "      <td>3.50</td>\n",
       "      <td>2008.0</td>\n",
       "      <td>ARG</td>\n",
       "    </tr>\n",
       "    <tr>\n",
       "      <th>1</th>\n",
       "      <td>Australia</td>\n",
       "      <td>53</td>\n",
       "      <td>3.50</td>\n",
       "      <td>2015.0</td>\n",
       "      <td>AUS</td>\n",
       "    </tr>\n",
       "    <tr>\n",
       "      <th>2</th>\n",
       "      <td>Austria</td>\n",
       "      <td>30</td>\n",
       "      <td>3.25</td>\n",
       "      <td>2012.0</td>\n",
       "      <td>AUT</td>\n",
       "    </tr>\n",
       "    <tr>\n",
       "      <th>3</th>\n",
       "      <td>Belgium</td>\n",
       "      <td>63</td>\n",
       "      <td>3.00</td>\n",
       "      <td>2013.0</td>\n",
       "      <td>BEL</td>\n",
       "    </tr>\n",
       "    <tr>\n",
       "      <th>4</th>\n",
       "      <td>Bolivia</td>\n",
       "      <td>2</td>\n",
       "      <td>3.25</td>\n",
       "      <td>2009.5</td>\n",
       "      <td>BOL</td>\n",
       "    </tr>\n",
       "    <tr>\n",
       "      <th>...</th>\n",
       "      <td>...</td>\n",
       "      <td>...</td>\n",
       "      <td>...</td>\n",
       "      <td>...</td>\n",
       "      <td>...</td>\n",
       "    </tr>\n",
       "    <tr>\n",
       "      <th>58</th>\n",
       "      <td>U.K.</td>\n",
       "      <td>145</td>\n",
       "      <td>3.00</td>\n",
       "      <td>2014.0</td>\n",
       "      <td>GBR</td>\n",
       "    </tr>\n",
       "    <tr>\n",
       "      <th>59</th>\n",
       "      <td>U.S.A.</td>\n",
       "      <td>1136</td>\n",
       "      <td>3.25</td>\n",
       "      <td>2015.0</td>\n",
       "      <td>USA</td>\n",
       "    </tr>\n",
       "    <tr>\n",
       "      <th>60</th>\n",
       "      <td>Vanuatu</td>\n",
       "      <td>4</td>\n",
       "      <td>2.75</td>\n",
       "      <td>2019.0</td>\n",
       "      <td>VUT</td>\n",
       "    </tr>\n",
       "    <tr>\n",
       "      <th>61</th>\n",
       "      <td>Venezuela</td>\n",
       "      <td>31</td>\n",
       "      <td>3.00</td>\n",
       "      <td>2015.0</td>\n",
       "      <td>VEN</td>\n",
       "    </tr>\n",
       "    <tr>\n",
       "      <th>62</th>\n",
       "      <td>Vietnam</td>\n",
       "      <td>16</td>\n",
       "      <td>3.50</td>\n",
       "      <td>2014.0</td>\n",
       "      <td>VNM</td>\n",
       "    </tr>\n",
       "  </tbody>\n",
       "</table>\n",
       "<p>63 rows × 5 columns</p>\n",
       "</div>"
      ],
      "text/plain": [
       "      country  number  rating  year_reviewed  ISO\n",
       "0   Argentina       9    3.50         2008.0  ARG\n",
       "1   Australia      53    3.50         2015.0  AUS\n",
       "2     Austria      30    3.25         2012.0  AUT\n",
       "3     Belgium      63    3.00         2013.0  BEL\n",
       "4     Bolivia       2    3.25         2009.5  BOL\n",
       "..        ...     ...     ...            ...  ...\n",
       "58       U.K.     145    3.00         2014.0  GBR\n",
       "59     U.S.A.    1136    3.25         2015.0  USA\n",
       "60    Vanuatu       4    2.75         2019.0  VUT\n",
       "61  Venezuela      31    3.00         2015.0  VEN\n",
       "62    Vietnam      16    3.50         2014.0  VNM\n",
       "\n",
       "[63 rows x 5 columns]"
      ]
     },
     "execution_count": 139,
     "metadata": {},
     "output_type": "execute_result"
    }
   ],
   "source": [
    "def group_countries(country_column: str):\n",
    "\ttmp = df.groupby(country_column).agg({'id': 'count', 'rating': 'median', 'year_reviewed': 'median'}).rename(columns={'id': 'number'}).reset_index()\n",
    "\ttmp.rating.round(2)\n",
    "\ttmp.year_reviewed.astype(int)\n",
    "\ttmp['ISO'] = tmp[country_column].map(iso_mapping)\n",
    "\ttmp.rename({country_column: 'country'}, axis=1, inplace=True)\n",
    "\treturn tmp\n",
    "\n",
    "bean_df = group_countries('bean_origin')\n",
    "choc_df = group_countries('company_location')\n",
    "choc_df"
   ]
  },
  {
   "cell_type": "markdown",
   "id": "4db32443",
   "metadata": {},
   "source": [
    "Let's analize which countries didn't map properly"
   ]
  },
  {
   "cell_type": "code",
   "execution_count": 45,
   "id": "7ff0ef89",
   "metadata": {},
   "outputs": [
    {
     "name": "stdout",
     "output_type": "stream",
     "text": [
      "         company_location  year_reviewed  ISO            bean_origin\n",
      "0               Amsterdam         2017.0  NaN                    NaN\n",
      "1          Czech Republic         2020.0  NaN                    NaN\n",
      "2                Sao Tome         2008.0  NaN                    NaN\n",
      "3     Sao Tome & Principe         2019.0  NaN                    NaN\n",
      "4                Scotland         2013.0  NaN                  Congo\n",
      "5               St. Lucia         2013.0  NaN                    NaN\n",
      "6   St.Vincent-Grenadines         2018.0  NaN  St.Vincent-Grenadines\n",
      "7                  U.A.E.         2017.0  NaN                    NaN\n",
      "8                    U.K.         2014.0  NaN                    NaN\n",
      "9                  U.S.A.         2015.0  NaN                    NaN\n",
      "10                  Wales         2012.0  NaN                    NaN\n",
      "11                    NaN         2011.0  NaN                  Blend\n",
      "12                    NaN         2018.0  NaN               DR Congo\n",
      "13                    NaN         2018.0  NaN                Sumatra\n",
      "14                    NaN         2011.0  NaN               Principe\n",
      "15                    NaN         2011.0  NaN               Sao Tome\n",
      "16                    NaN         2020.0  NaN    Sao Tome & Principe\n",
      "17                    NaN         2013.0  NaN              St. Lucia\n",
      "18                    NaN         2018.0  NaN               Sulawesi\n",
      "19                    NaN         2012.5  NaN                 Tobago\n",
      "20                    NaN         2015.0  NaN               Trinidad\n",
      "21                    NaN         2013.0  NaN                 U.S.A.\n"
     ]
    },
    {
     "name": "stderr",
     "output_type": "stream",
     "text": [
      "C:\\Users\\perev\\AppData\\Local\\Temp\\ipykernel_21548\\552112.py:5: FutureWarning: In a future version, the Index constructor will not infer numeric dtypes when passed object-dtype sequences (matching Series behavior)\n",
      "  print(pd.merge(tmp_c, tmp_b, how='outer').drop(['number','rating'], axis=1))\n"
     ]
    }
   ],
   "source": [
    "def check_for_nulls_dfs():\n",
    "\ttmp_c = choc_df.query('ISO!=ISO')\n",
    "\ttmp_b = bean_df.query('ISO!=ISO')\n",
    "\twith pd.option_context('display.max_rows', None):\n",
    "\t\tprint(pd.merge(tmp_c, tmp_b, how='outer').drop(['number','rating'], axis=1))\n",
    "\n",
    "check_for_nulls_dfs()"
   ]
  },
  {
   "cell_type": "markdown",
   "id": "25d6d324",
   "metadata": {},
   "source": [
    "Now let's change them manually (we'll change only those, which make sense, e.g. Czechia -> Czech Republic) and ignore all others."
   ]
  },
  {
   "cell_type": "code",
   "execution_count": 46,
   "id": "bc500b6d",
   "metadata": {},
   "outputs": [],
   "source": [
    "def rename(old, new):\n",
    "\ta.loc[a['Country'] == old, 'Country'] = new\n",
    "def df_rename(old, new):\n",
    "\tdf.loc[df['bean_origin'] == old, 'bean_origin'] = new\n",
    "\tdf.loc[df['company_location'] == old, 'company_location'] = new\n",
    "\t\n",
    "rename('United States', 'U.S.A.')\n",
    "rename('United Arab Emirates', 'U.A.E.')\n",
    "rename('United Kingdom', 'U.K.')\n",
    "rename('Republic of the Congo', 'Congo')\n",
    "rename('Czechia', 'Czech Republic')\n",
    "rename('Saint Vincent and the Grenadines', 'St.Vincent-Grenadines')\n",
    "rename('Saint Vincent and the Grenadines', 'St.Vincent-Grenadines')\n",
    "rename('Republic of the Congo', 'Congo')\n",
    "rename('Democratic Republic of the Congo', 'DR Congo')\n",
    "rename('Sao Tome and Principe', 'Sao Tome & Principe')\n",
    "rename('Saint Lucia', 'St. Lucia')\n",
    "df_rename('Tobago', 'Trinidad and Tobago')\n",
    "df_rename('Trinidad', 'Trinidad and Tobago')\n",
    "df_rename('Amsterdam', 'Netherlands')\n",
    "df_rename('Sumatra', 'Indonesia')\n",
    "df_rename('Scotland', 'U.K.')\n",
    "df_rename('Wales', 'U.K.')\n",
    "df_rename('Sao Tome', 'Sao Tome & Principe')\n",
    "df_rename('Principe', 'Sao Tome & Principe')\n",
    "df_rename('Sulawesi', 'Indonesia')\n"
   ]
  },
  {
   "cell_type": "markdown",
   "id": "984b6187",
   "metadata": {},
   "source": [
    "Reiterate process of mapping and we'll be fine"
   ]
  },
  {
   "cell_type": "code",
   "execution_count": 47,
   "id": "9ea8d919",
   "metadata": {},
   "outputs": [
    {
     "name": "stdout",
     "output_type": "stream",
     "text": [
      "  company_location bean_origin  year_reviewed  ISO\n",
      "0              NaN       Blend         2011.0  NaN\n"
     ]
    }
   ],
   "source": [
    "iso_mapping = dict(zip(a['Country'], a['ISO 3166-1alpha3']))\n",
    "bean_df = group_countries('bean_origin')\n",
    "choc_df = group_countries('company_location')\n",
    "\n",
    "check_for_nulls_dfs()"
   ]
  },
  {
   "cell_type": "code",
   "execution_count": 141,
   "id": "52242bd3",
   "metadata": {},
   "outputs": [
    {
     "data": {
      "text/html": [
       "<div>\n",
       "<style scoped>\n",
       "    .dataframe tbody tr th:only-of-type {\n",
       "        vertical-align: middle;\n",
       "    }\n",
       "\n",
       "    .dataframe tbody tr th {\n",
       "        vertical-align: top;\n",
       "    }\n",
       "\n",
       "    .dataframe thead th {\n",
       "        text-align: right;\n",
       "    }\n",
       "</style>\n",
       "<table border=\"1\" class=\"dataframe\">\n",
       "  <thead>\n",
       "    <tr style=\"text-align: right;\">\n",
       "      <th></th>\n",
       "      <th>country</th>\n",
       "      <th>number</th>\n",
       "      <th>rating</th>\n",
       "      <th>year_reviewed</th>\n",
       "      <th>ISO</th>\n",
       "    </tr>\n",
       "  </thead>\n",
       "  <tbody>\n",
       "    <tr>\n",
       "      <th>0</th>\n",
       "      <td>Australia</td>\n",
       "      <td>3</td>\n",
       "      <td>3.250</td>\n",
       "      <td>2015.0</td>\n",
       "      <td>AUS</td>\n",
       "    </tr>\n",
       "    <tr>\n",
       "      <th>1</th>\n",
       "      <td>Belize</td>\n",
       "      <td>76</td>\n",
       "      <td>3.250</td>\n",
       "      <td>2016.0</td>\n",
       "      <td>BLZ</td>\n",
       "    </tr>\n",
       "    <tr>\n",
       "      <th>2</th>\n",
       "      <td>Blend</td>\n",
       "      <td>156</td>\n",
       "      <td>3.000</td>\n",
       "      <td>2011.0</td>\n",
       "      <td>NaN</td>\n",
       "    </tr>\n",
       "    <tr>\n",
       "      <th>3</th>\n",
       "      <td>Bolivia</td>\n",
       "      <td>80</td>\n",
       "      <td>3.250</td>\n",
       "      <td>2015.0</td>\n",
       "      <td>BOL</td>\n",
       "    </tr>\n",
       "    <tr>\n",
       "      <th>4</th>\n",
       "      <td>Brazil</td>\n",
       "      <td>78</td>\n",
       "      <td>3.250</td>\n",
       "      <td>2015.0</td>\n",
       "      <td>BRA</td>\n",
       "    </tr>\n",
       "    <tr>\n",
       "      <th>5</th>\n",
       "      <td>Burma</td>\n",
       "      <td>1</td>\n",
       "      <td>3.000</td>\n",
       "      <td>2013.0</td>\n",
       "      <td>MMR</td>\n",
       "    </tr>\n",
       "    <tr>\n",
       "      <th>6</th>\n",
       "      <td>Cameroon</td>\n",
       "      <td>3</td>\n",
       "      <td>3.000</td>\n",
       "      <td>2018.0</td>\n",
       "      <td>CMR</td>\n",
       "    </tr>\n",
       "    <tr>\n",
       "      <th>7</th>\n",
       "      <td>China</td>\n",
       "      <td>1</td>\n",
       "      <td>3.500</td>\n",
       "      <td>2021.0</td>\n",
       "      <td>CHN</td>\n",
       "    </tr>\n",
       "    <tr>\n",
       "      <th>8</th>\n",
       "      <td>Colombia</td>\n",
       "      <td>79</td>\n",
       "      <td>3.250</td>\n",
       "      <td>2017.0</td>\n",
       "      <td>COL</td>\n",
       "    </tr>\n",
       "    <tr>\n",
       "      <th>9</th>\n",
       "      <td>Congo</td>\n",
       "      <td>11</td>\n",
       "      <td>3.250</td>\n",
       "      <td>2013.0</td>\n",
       "      <td>COG</td>\n",
       "    </tr>\n",
       "    <tr>\n",
       "      <th>10</th>\n",
       "      <td>Costa Rica</td>\n",
       "      <td>43</td>\n",
       "      <td>3.250</td>\n",
       "      <td>2014.0</td>\n",
       "      <td>CRI</td>\n",
       "    </tr>\n",
       "    <tr>\n",
       "      <th>11</th>\n",
       "      <td>Cuba</td>\n",
       "      <td>12</td>\n",
       "      <td>3.375</td>\n",
       "      <td>2014.0</td>\n",
       "      <td>CUB</td>\n",
       "    </tr>\n",
       "    <tr>\n",
       "      <th>12</th>\n",
       "      <td>DR Congo</td>\n",
       "      <td>1</td>\n",
       "      <td>3.000</td>\n",
       "      <td>2018.0</td>\n",
       "      <td>COD</td>\n",
       "    </tr>\n",
       "    <tr>\n",
       "      <th>13</th>\n",
       "      <td>Dominican Republic</td>\n",
       "      <td>226</td>\n",
       "      <td>3.250</td>\n",
       "      <td>2014.0</td>\n",
       "      <td>DOM</td>\n",
       "    </tr>\n",
       "    <tr>\n",
       "      <th>14</th>\n",
       "      <td>Ecuador</td>\n",
       "      <td>219</td>\n",
       "      <td>3.250</td>\n",
       "      <td>2013.0</td>\n",
       "      <td>ECU</td>\n",
       "    </tr>\n",
       "    <tr>\n",
       "      <th>15</th>\n",
       "      <td>El Salvador</td>\n",
       "      <td>6</td>\n",
       "      <td>3.000</td>\n",
       "      <td>2019.0</td>\n",
       "      <td>SLV</td>\n",
       "    </tr>\n",
       "    <tr>\n",
       "      <th>16</th>\n",
       "      <td>Fiji</td>\n",
       "      <td>16</td>\n",
       "      <td>3.000</td>\n",
       "      <td>2016.5</td>\n",
       "      <td>FJI</td>\n",
       "    </tr>\n",
       "    <tr>\n",
       "      <th>17</th>\n",
       "      <td>Gabon</td>\n",
       "      <td>1</td>\n",
       "      <td>3.250</td>\n",
       "      <td>2013.0</td>\n",
       "      <td>GAB</td>\n",
       "    </tr>\n",
       "    <tr>\n",
       "      <th>18</th>\n",
       "      <td>Ghana</td>\n",
       "      <td>41</td>\n",
       "      <td>3.000</td>\n",
       "      <td>2012.0</td>\n",
       "      <td>GHA</td>\n",
       "    </tr>\n",
       "    <tr>\n",
       "      <th>19</th>\n",
       "      <td>Grenada</td>\n",
       "      <td>19</td>\n",
       "      <td>3.250</td>\n",
       "      <td>2010.0</td>\n",
       "      <td>GRD</td>\n",
       "    </tr>\n",
       "    <tr>\n",
       "      <th>20</th>\n",
       "      <td>Guatemala</td>\n",
       "      <td>62</td>\n",
       "      <td>3.250</td>\n",
       "      <td>2017.0</td>\n",
       "      <td>GTM</td>\n",
       "    </tr>\n",
       "    <tr>\n",
       "      <th>21</th>\n",
       "      <td>Haiti</td>\n",
       "      <td>30</td>\n",
       "      <td>3.250</td>\n",
       "      <td>2018.0</td>\n",
       "      <td>HTI</td>\n",
       "    </tr>\n",
       "    <tr>\n",
       "      <th>22</th>\n",
       "      <td>Honduras</td>\n",
       "      <td>25</td>\n",
       "      <td>3.250</td>\n",
       "      <td>2016.0</td>\n",
       "      <td>HND</td>\n",
       "    </tr>\n",
       "    <tr>\n",
       "      <th>23</th>\n",
       "      <td>India</td>\n",
       "      <td>35</td>\n",
       "      <td>3.250</td>\n",
       "      <td>2019.0</td>\n",
       "      <td>IND</td>\n",
       "    </tr>\n",
       "    <tr>\n",
       "      <th>24</th>\n",
       "      <td>Indonesia</td>\n",
       "      <td>22</td>\n",
       "      <td>3.000</td>\n",
       "      <td>2011.5</td>\n",
       "      <td>IDN</td>\n",
       "    </tr>\n",
       "    <tr>\n",
       "      <th>25</th>\n",
       "      <td>Ivory Coast</td>\n",
       "      <td>7</td>\n",
       "      <td>3.000</td>\n",
       "      <td>2010.0</td>\n",
       "      <td>CIV</td>\n",
       "    </tr>\n",
       "    <tr>\n",
       "      <th>26</th>\n",
       "      <td>Jamaica</td>\n",
       "      <td>24</td>\n",
       "      <td>3.250</td>\n",
       "      <td>2011.0</td>\n",
       "      <td>JAM</td>\n",
       "    </tr>\n",
       "    <tr>\n",
       "      <th>27</th>\n",
       "      <td>Liberia</td>\n",
       "      <td>3</td>\n",
       "      <td>3.250</td>\n",
       "      <td>2014.0</td>\n",
       "      <td>LBR</td>\n",
       "    </tr>\n",
       "    <tr>\n",
       "      <th>28</th>\n",
       "      <td>Madagascar</td>\n",
       "      <td>177</td>\n",
       "      <td>3.250</td>\n",
       "      <td>2014.0</td>\n",
       "      <td>MDG</td>\n",
       "    </tr>\n",
       "    <tr>\n",
       "      <th>29</th>\n",
       "      <td>Malaysia</td>\n",
       "      <td>8</td>\n",
       "      <td>3.125</td>\n",
       "      <td>2018.5</td>\n",
       "      <td>MYS</td>\n",
       "    </tr>\n",
       "    <tr>\n",
       "      <th>30</th>\n",
       "      <td>Martinique</td>\n",
       "      <td>1</td>\n",
       "      <td>2.750</td>\n",
       "      <td>2013.0</td>\n",
       "      <td>MTQ</td>\n",
       "    </tr>\n",
       "    <tr>\n",
       "      <th>31</th>\n",
       "      <td>Mexico</td>\n",
       "      <td>55</td>\n",
       "      <td>3.250</td>\n",
       "      <td>2016.0</td>\n",
       "      <td>MEX</td>\n",
       "    </tr>\n",
       "    <tr>\n",
       "      <th>32</th>\n",
       "      <td>Nicaragua</td>\n",
       "      <td>100</td>\n",
       "      <td>3.250</td>\n",
       "      <td>2016.0</td>\n",
       "      <td>NIC</td>\n",
       "    </tr>\n",
       "    <tr>\n",
       "      <th>33</th>\n",
       "      <td>Nigeria</td>\n",
       "      <td>3</td>\n",
       "      <td>3.000</td>\n",
       "      <td>2017.0</td>\n",
       "      <td>NGA</td>\n",
       "    </tr>\n",
       "    <tr>\n",
       "      <th>34</th>\n",
       "      <td>Panama</td>\n",
       "      <td>9</td>\n",
       "      <td>3.000</td>\n",
       "      <td>2012.0</td>\n",
       "      <td>PAN</td>\n",
       "    </tr>\n",
       "    <tr>\n",
       "      <th>35</th>\n",
       "      <td>Papua New Guinea</td>\n",
       "      <td>50</td>\n",
       "      <td>3.250</td>\n",
       "      <td>2014.0</td>\n",
       "      <td>PNG</td>\n",
       "    </tr>\n",
       "    <tr>\n",
       "      <th>36</th>\n",
       "      <td>Peru</td>\n",
       "      <td>244</td>\n",
       "      <td>3.250</td>\n",
       "      <td>2015.0</td>\n",
       "      <td>PER</td>\n",
       "    </tr>\n",
       "    <tr>\n",
       "      <th>37</th>\n",
       "      <td>Philippines</td>\n",
       "      <td>24</td>\n",
       "      <td>3.250</td>\n",
       "      <td>2018.0</td>\n",
       "      <td>PHL</td>\n",
       "    </tr>\n",
       "    <tr>\n",
       "      <th>38</th>\n",
       "      <td>Puerto Rico</td>\n",
       "      <td>7</td>\n",
       "      <td>2.500</td>\n",
       "      <td>2015.0</td>\n",
       "      <td>PRI</td>\n",
       "    </tr>\n",
       "    <tr>\n",
       "      <th>39</th>\n",
       "      <td>Samoa</td>\n",
       "      <td>3</td>\n",
       "      <td>3.000</td>\n",
       "      <td>2016.0</td>\n",
       "      <td>WSM</td>\n",
       "    </tr>\n",
       "    <tr>\n",
       "      <th>40</th>\n",
       "      <td>Sao Tome &amp; Principe</td>\n",
       "      <td>17</td>\n",
       "      <td>3.000</td>\n",
       "      <td>2011.0</td>\n",
       "      <td>STP</td>\n",
       "    </tr>\n",
       "    <tr>\n",
       "      <th>41</th>\n",
       "      <td>Sierra Leone</td>\n",
       "      <td>4</td>\n",
       "      <td>2.750</td>\n",
       "      <td>2019.0</td>\n",
       "      <td>SLE</td>\n",
       "    </tr>\n",
       "    <tr>\n",
       "      <th>42</th>\n",
       "      <td>Solomon Islands</td>\n",
       "      <td>10</td>\n",
       "      <td>3.375</td>\n",
       "      <td>2017.5</td>\n",
       "      <td>SLB</td>\n",
       "    </tr>\n",
       "    <tr>\n",
       "      <th>43</th>\n",
       "      <td>Sri Lanka</td>\n",
       "      <td>2</td>\n",
       "      <td>2.875</td>\n",
       "      <td>2010.5</td>\n",
       "      <td>LKA</td>\n",
       "    </tr>\n",
       "    <tr>\n",
       "      <th>44</th>\n",
       "      <td>St. Lucia</td>\n",
       "      <td>10</td>\n",
       "      <td>3.000</td>\n",
       "      <td>2013.0</td>\n",
       "      <td>LCA</td>\n",
       "    </tr>\n",
       "    <tr>\n",
       "      <th>45</th>\n",
       "      <td>St.Vincent-Grenadines</td>\n",
       "      <td>1</td>\n",
       "      <td>2.750</td>\n",
       "      <td>2018.0</td>\n",
       "      <td>VCT</td>\n",
       "    </tr>\n",
       "    <tr>\n",
       "      <th>46</th>\n",
       "      <td>Suriname</td>\n",
       "      <td>1</td>\n",
       "      <td>3.250</td>\n",
       "      <td>2016.0</td>\n",
       "      <td>SUR</td>\n",
       "    </tr>\n",
       "    <tr>\n",
       "      <th>47</th>\n",
       "      <td>Taiwan</td>\n",
       "      <td>2</td>\n",
       "      <td>2.875</td>\n",
       "      <td>2018.5</td>\n",
       "      <td>TWN</td>\n",
       "    </tr>\n",
       "    <tr>\n",
       "      <th>48</th>\n",
       "      <td>Tanzania</td>\n",
       "      <td>79</td>\n",
       "      <td>3.250</td>\n",
       "      <td>2018.0</td>\n",
       "      <td>TZA</td>\n",
       "    </tr>\n",
       "    <tr>\n",
       "      <th>49</th>\n",
       "      <td>Thailand</td>\n",
       "      <td>5</td>\n",
       "      <td>3.500</td>\n",
       "      <td>2018.0</td>\n",
       "      <td>THA</td>\n",
       "    </tr>\n",
       "    <tr>\n",
       "      <th>50</th>\n",
       "      <td>Togo</td>\n",
       "      <td>3</td>\n",
       "      <td>3.000</td>\n",
       "      <td>2015.0</td>\n",
       "      <td>TGO</td>\n",
       "    </tr>\n",
       "    <tr>\n",
       "      <th>51</th>\n",
       "      <td>Trinidad and Tobago</td>\n",
       "      <td>44</td>\n",
       "      <td>3.250</td>\n",
       "      <td>2014.5</td>\n",
       "      <td>TTO</td>\n",
       "    </tr>\n",
       "    <tr>\n",
       "      <th>52</th>\n",
       "      <td>U.S.A.</td>\n",
       "      <td>33</td>\n",
       "      <td>3.250</td>\n",
       "      <td>2013.0</td>\n",
       "      <td>USA</td>\n",
       "    </tr>\n",
       "    <tr>\n",
       "      <th>53</th>\n",
       "      <td>Uganda</td>\n",
       "      <td>19</td>\n",
       "      <td>3.000</td>\n",
       "      <td>2019.0</td>\n",
       "      <td>UGA</td>\n",
       "    </tr>\n",
       "    <tr>\n",
       "      <th>54</th>\n",
       "      <td>Vanuatu</td>\n",
       "      <td>13</td>\n",
       "      <td>3.000</td>\n",
       "      <td>2014.0</td>\n",
       "      <td>VUT</td>\n",
       "    </tr>\n",
       "    <tr>\n",
       "      <th>55</th>\n",
       "      <td>Venezuela</td>\n",
       "      <td>253</td>\n",
       "      <td>3.250</td>\n",
       "      <td>2013.0</td>\n",
       "      <td>VEN</td>\n",
       "    </tr>\n",
       "    <tr>\n",
       "      <th>56</th>\n",
       "      <td>Vietnam</td>\n",
       "      <td>73</td>\n",
       "      <td>3.250</td>\n",
       "      <td>2016.0</td>\n",
       "      <td>VNM</td>\n",
       "    </tr>\n",
       "  </tbody>\n",
       "</table>\n",
       "</div>"
      ],
      "text/plain": [
       "                  country  number  rating  year_reviewed  ISO\n",
       "0               Australia       3   3.250         2015.0  AUS\n",
       "1                  Belize      76   3.250         2016.0  BLZ\n",
       "2                   Blend     156   3.000         2011.0  NaN\n",
       "3                 Bolivia      80   3.250         2015.0  BOL\n",
       "4                  Brazil      78   3.250         2015.0  BRA\n",
       "5                   Burma       1   3.000         2013.0  MMR\n",
       "6                Cameroon       3   3.000         2018.0  CMR\n",
       "7                   China       1   3.500         2021.0  CHN\n",
       "8                Colombia      79   3.250         2017.0  COL\n",
       "9                   Congo      11   3.250         2013.0  COG\n",
       "10             Costa Rica      43   3.250         2014.0  CRI\n",
       "11                   Cuba      12   3.375         2014.0  CUB\n",
       "12               DR Congo       1   3.000         2018.0  COD\n",
       "13     Dominican Republic     226   3.250         2014.0  DOM\n",
       "14                Ecuador     219   3.250         2013.0  ECU\n",
       "15            El Salvador       6   3.000         2019.0  SLV\n",
       "16                   Fiji      16   3.000         2016.5  FJI\n",
       "17                  Gabon       1   3.250         2013.0  GAB\n",
       "18                  Ghana      41   3.000         2012.0  GHA\n",
       "19                Grenada      19   3.250         2010.0  GRD\n",
       "20              Guatemala      62   3.250         2017.0  GTM\n",
       "21                  Haiti      30   3.250         2018.0  HTI\n",
       "22               Honduras      25   3.250         2016.0  HND\n",
       "23                  India      35   3.250         2019.0  IND\n",
       "24              Indonesia      22   3.000         2011.5  IDN\n",
       "25            Ivory Coast       7   3.000         2010.0  CIV\n",
       "26                Jamaica      24   3.250         2011.0  JAM\n",
       "27                Liberia       3   3.250         2014.0  LBR\n",
       "28             Madagascar     177   3.250         2014.0  MDG\n",
       "29               Malaysia       8   3.125         2018.5  MYS\n",
       "30             Martinique       1   2.750         2013.0  MTQ\n",
       "31                 Mexico      55   3.250         2016.0  MEX\n",
       "32              Nicaragua     100   3.250         2016.0  NIC\n",
       "33                Nigeria       3   3.000         2017.0  NGA\n",
       "34                 Panama       9   3.000         2012.0  PAN\n",
       "35       Papua New Guinea      50   3.250         2014.0  PNG\n",
       "36                   Peru     244   3.250         2015.0  PER\n",
       "37            Philippines      24   3.250         2018.0  PHL\n",
       "38            Puerto Rico       7   2.500         2015.0  PRI\n",
       "39                  Samoa       3   3.000         2016.0  WSM\n",
       "40    Sao Tome & Principe      17   3.000         2011.0  STP\n",
       "41           Sierra Leone       4   2.750         2019.0  SLE\n",
       "42        Solomon Islands      10   3.375         2017.5  SLB\n",
       "43              Sri Lanka       2   2.875         2010.5  LKA\n",
       "44              St. Lucia      10   3.000         2013.0  LCA\n",
       "45  St.Vincent-Grenadines       1   2.750         2018.0  VCT\n",
       "46               Suriname       1   3.250         2016.0  SUR\n",
       "47                 Taiwan       2   2.875         2018.5  TWN\n",
       "48               Tanzania      79   3.250         2018.0  TZA\n",
       "49               Thailand       5   3.500         2018.0  THA\n",
       "50                   Togo       3   3.000         2015.0  TGO\n",
       "51    Trinidad and Tobago      44   3.250         2014.5  TTO\n",
       "52                 U.S.A.      33   3.250         2013.0  USA\n",
       "53                 Uganda      19   3.000         2019.0  UGA\n",
       "54                Vanuatu      13   3.000         2014.0  VUT\n",
       "55              Venezuela     253   3.250         2013.0  VEN\n",
       "56                Vietnam      73   3.250         2016.0  VNM"
      ]
     },
     "execution_count": 141,
     "metadata": {},
     "output_type": "execute_result"
    }
   ],
   "source": [
    "choc_df.rename({'company_location': 'country'}, axis=1)\n",
    "bean_df.rename({'bean_origin': 'country'}, axis=1)\n",
    "bean_df"
   ]
  },
  {
   "cell_type": "code",
   "execution_count": 183,
   "id": "826a4033",
   "metadata": {},
   "outputs": [
    {
     "data": {
      "application/vnd.plotly.v1+json": {
       "config": {
        "plotlyServerURL": "https://plot.ly"
       },
       "data": [
        {
         "autocolorscale": false,
         "colorbar": {
          "title": {
           "font": {
            "color": "DarkBlue",
            "size": 15
           },
           "text": "Rating"
          }
         },
         "colorscale": [
          [
           0,
           "rgb(232, 245, 171)"
          ],
          [
           0.09090909090909091,
           "rgb(220, 219, 137)"
          ],
          [
           0.18181818181818182,
           "rgb(209, 193, 107)"
          ],
          [
           0.2727272727272727,
           "rgb(199, 168, 83)"
          ],
          [
           0.36363636363636365,
           "rgb(186, 143, 66)"
          ],
          [
           0.45454545454545453,
           "rgb(170, 121, 60)"
          ],
          [
           0.5454545454545454,
           "rgb(151, 103, 58)"
          ],
          [
           0.6363636363636364,
           "rgb(129, 87, 56)"
          ],
          [
           0.7272727272727273,
           "rgb(104, 72, 53)"
          ],
          [
           0.8181818181818182,
           "rgb(80, 59, 46)"
          ],
          [
           0.9090909090909091,
           "rgb(57, 45, 37)"
          ],
          [
           1,
           "rgb(34, 30, 27)"
          ]
         ],
         "customdata": [
          [
           9,
           2008,
           "ARG"
          ],
          [
           53,
           2015,
           "AUS"
          ],
          [
           30,
           2012,
           "AUT"
          ],
          [
           63,
           2013,
           "BEL"
          ],
          [
           2,
           2009.5,
           "BOL"
          ],
          [
           25,
           2015,
           "BRA"
          ],
          [
           177,
           2015,
           "CAN"
          ],
          [
           2,
           2017,
           "CHL"
          ],
          [
           29,
           2014,
           "COL"
          ],
          [
           9,
           2015,
           "CRI"
          ],
          [
           3,
           2020,
           "CZE"
          ],
          [
           31,
           2017,
           "DNK"
          ],
          [
           11,
           2018,
           "DOM"
          ],
          [
           58,
           2009,
           "ECU"
          ],
          [
           3,
           2019,
           "SLV"
          ],
          [
           4,
           2011,
           "FJI"
          ],
          [
           2,
           2015,
           "FIN"
          ],
          [
           176,
           2012.5,
           "FRA"
          ],
          [
           42,
           2012.5,
           "DEU"
          ],
          [
           1,
           2011,
           "GHA"
          ],
          [
           3,
           2009,
           "GRD"
          ],
          [
           10,
           2012,
           "GTM"
          ],
          [
           6,
           2014,
           "HND"
          ],
          [
           26,
           2013,
           "HUN"
          ],
          [
           4,
           2015,
           "ISL"
          ],
          [
           2,
           2016.5,
           "IND"
          ],
          [
           5,
           2013,
           "IRL"
          ],
          [
           9,
           2015,
           "ISR"
          ],
          [
           78,
           2011,
           "ITA"
          ],
          [
           31,
           2016,
           "JPN"
          ],
          [
           8,
           2014,
           "LTU"
          ],
          [
           17,
           2009,
           "MDG"
          ],
          [
           3,
           2019,
           "MYS"
          ],
          [
           1,
           2013,
           "MTQ"
          ],
          [
           10,
           2018,
           "MEX"
          ],
          [
           20,
           2017,
           "NLD"
          ],
          [
           27,
           2016,
           "NZL"
          ],
          [
           10,
           2015,
           "NIC"
          ],
          [
           3,
           2018,
           "NOR"
          ],
          [
           23,
           2015,
           "PER"
          ],
          [
           5,
           2018,
           "PHL"
          ],
          [
           8,
           2013,
           "POL"
          ],
          [
           3,
           2016,
           "PRT"
          ],
          [
           4,
           2015.5,
           "PRI"
          ],
          [
           3,
           2017,
           "RUS"
          ],
          [
           8,
           2014.5,
           "STP"
          ],
          [
           15,
           2018,
           "SGP"
          ],
          [
           4,
           2016,
           "ZAF"
          ],
          [
           11,
           2018,
           "KOR"
          ],
          [
           36,
           2010,
           "ESP"
          ],
          [
           3,
           2013,
           "LCA"
          ],
          [
           1,
           2018,
           "VCT"
          ],
          [
           1,
           2016,
           "SUR"
          ],
          [
           6,
           2015,
           "SWE"
          ],
          [
           44,
           2011,
           "CHE"
          ],
          [
           10,
           2018,
           "TWN"
          ],
          [
           5,
           2018,
           "THA"
          ],
          [
           5,
           2017,
           "ARE"
          ],
          [
           145,
           2014,
           "GBR"
          ],
          [
           1136,
           2015,
           "USA"
          ],
          [
           4,
           2019,
           "VUT"
          ],
          [
           31,
           2015,
           "VEN"
          ],
          [
           16,
           2014,
           "VNM"
          ]
         ],
         "hovertemplate": "<b>%{text}</b><br>Number of brands: %{customdata[0]}<br>Rating: %{z}<br>Average year of reviews: %{customdata[1]}<extra>%{customdata[2]}</extra>",
         "locations": [
          "ARG",
          "AUS",
          "AUT",
          "BEL",
          "BOL",
          "BRA",
          "CAN",
          "CHL",
          "COL",
          "CRI",
          "CZE",
          "DNK",
          "DOM",
          "ECU",
          "SLV",
          "FJI",
          "FIN",
          "FRA",
          "DEU",
          "GHA",
          "GRD",
          "GTM",
          "HND",
          "HUN",
          "ISL",
          "IND",
          "IRL",
          "ISR",
          "ITA",
          "JPN",
          "LTU",
          "MDG",
          "MYS",
          "MTQ",
          "MEX",
          "NLD",
          "NZL",
          "NIC",
          "NOR",
          "PER",
          "PHL",
          "POL",
          "PRT",
          "PRI",
          "RUS",
          "STP",
          "SGP",
          "ZAF",
          "KOR",
          "ESP",
          "LCA",
          "VCT",
          "SUR",
          "SWE",
          "CHE",
          "TWN",
          "THA",
          "ARE",
          "GBR",
          "USA",
          "VUT",
          "VEN",
          "VNM"
         ],
         "marker": {
          "line": {
           "color": "black",
           "width": 0.5
          }
         },
         "text": [
          "Argentina",
          "Australia",
          "Austria",
          "Belgium",
          "Bolivia",
          "Brazil",
          "Canada",
          "Chile",
          "Colombia",
          "Costa Rica",
          "Czech Republic",
          "Denmark",
          "Dominican Republic",
          "Ecuador",
          "El Salvador",
          "Fiji",
          "Finland",
          "France",
          "Germany",
          "Ghana",
          "Grenada",
          "Guatemala",
          "Honduras",
          "Hungary",
          "Iceland",
          "India",
          "Ireland",
          "Israel",
          "Italy",
          "Japan",
          "Lithuania",
          "Madagascar",
          "Malaysia",
          "Martinique",
          "Mexico",
          "Netherlands",
          "New Zealand",
          "Nicaragua",
          "Norway",
          "Peru",
          "Philippines",
          "Poland",
          "Portugal",
          "Puerto Rico",
          "Russia",
          "Sao Tome & Principe",
          "Singapore",
          "South Africa",
          "South Korea",
          "Spain",
          "St. Lucia",
          "St.Vincent-Grenadines",
          "Suriname",
          "Sweden",
          "Switzerland",
          "Taiwan",
          "Thailand",
          "U.A.E.",
          "U.K.",
          "U.S.A.",
          "Vanuatu",
          "Venezuela",
          "Vietnam"
         ],
         "type": "choropleth",
         "z": [
          3.5,
          3.5,
          3.25,
          3,
          3.25,
          3.25,
          3.25,
          3.75,
          3.25,
          3.25,
          2.75,
          3.25,
          3,
          3,
          3,
          3.375,
          3.25,
          3.25,
          3.25,
          2.75,
          2.75,
          3.25,
          3.25,
          3.25,
          3.25,
          2.625,
          2.75,
          3.5,
          3.25,
          3.25,
          3.125,
          3.25,
          2.75,
          2.75,
          3,
          3.25,
          3.25,
          3.125,
          3.5,
          3.25,
          3,
          3.5,
          2.75,
          2.625,
          3.25,
          3,
          3,
          2.75,
          3.25,
          3.25,
          2.75,
          2.75,
          3.25,
          3,
          3.25,
          3.125,
          3.5,
          3.5,
          3,
          3.25,
          2.75,
          3,
          3.5
         ]
        }
       ],
       "layout": {
        "geo": {
         "countrycolor": "#444444",
         "lataxis": {
          "range": [
           -59,
           90
          ]
         },
         "showcountries": true,
         "showlakes": false
        },
        "template": {
         "data": {
          "bar": [
           {
            "error_x": {
             "color": "#2a3f5f"
            },
            "error_y": {
             "color": "#2a3f5f"
            },
            "marker": {
             "line": {
              "color": "#E5ECF6",
              "width": 0.5
             },
             "pattern": {
              "fillmode": "overlay",
              "size": 10,
              "solidity": 0.2
             }
            },
            "type": "bar"
           }
          ],
          "barpolar": [
           {
            "marker": {
             "line": {
              "color": "#E5ECF6",
              "width": 0.5
             },
             "pattern": {
              "fillmode": "overlay",
              "size": 10,
              "solidity": 0.2
             }
            },
            "type": "barpolar"
           }
          ],
          "carpet": [
           {
            "aaxis": {
             "endlinecolor": "#2a3f5f",
             "gridcolor": "white",
             "linecolor": "white",
             "minorgridcolor": "white",
             "startlinecolor": "#2a3f5f"
            },
            "baxis": {
             "endlinecolor": "#2a3f5f",
             "gridcolor": "white",
             "linecolor": "white",
             "minorgridcolor": "white",
             "startlinecolor": "#2a3f5f"
            },
            "type": "carpet"
           }
          ],
          "choropleth": [
           {
            "colorbar": {
             "outlinewidth": 0,
             "ticks": ""
            },
            "type": "choropleth"
           }
          ],
          "contour": [
           {
            "colorbar": {
             "outlinewidth": 0,
             "ticks": ""
            },
            "colorscale": [
             [
              0,
              "#0d0887"
             ],
             [
              0.1111111111111111,
              "#46039f"
             ],
             [
              0.2222222222222222,
              "#7201a8"
             ],
             [
              0.3333333333333333,
              "#9c179e"
             ],
             [
              0.4444444444444444,
              "#bd3786"
             ],
             [
              0.5555555555555556,
              "#d8576b"
             ],
             [
              0.6666666666666666,
              "#ed7953"
             ],
             [
              0.7777777777777778,
              "#fb9f3a"
             ],
             [
              0.8888888888888888,
              "#fdca26"
             ],
             [
              1,
              "#f0f921"
             ]
            ],
            "type": "contour"
           }
          ],
          "contourcarpet": [
           {
            "colorbar": {
             "outlinewidth": 0,
             "ticks": ""
            },
            "type": "contourcarpet"
           }
          ],
          "heatmap": [
           {
            "colorbar": {
             "outlinewidth": 0,
             "ticks": ""
            },
            "colorscale": [
             [
              0,
              "#0d0887"
             ],
             [
              0.1111111111111111,
              "#46039f"
             ],
             [
              0.2222222222222222,
              "#7201a8"
             ],
             [
              0.3333333333333333,
              "#9c179e"
             ],
             [
              0.4444444444444444,
              "#bd3786"
             ],
             [
              0.5555555555555556,
              "#d8576b"
             ],
             [
              0.6666666666666666,
              "#ed7953"
             ],
             [
              0.7777777777777778,
              "#fb9f3a"
             ],
             [
              0.8888888888888888,
              "#fdca26"
             ],
             [
              1,
              "#f0f921"
             ]
            ],
            "type": "heatmap"
           }
          ],
          "heatmapgl": [
           {
            "colorbar": {
             "outlinewidth": 0,
             "ticks": ""
            },
            "colorscale": [
             [
              0,
              "#0d0887"
             ],
             [
              0.1111111111111111,
              "#46039f"
             ],
             [
              0.2222222222222222,
              "#7201a8"
             ],
             [
              0.3333333333333333,
              "#9c179e"
             ],
             [
              0.4444444444444444,
              "#bd3786"
             ],
             [
              0.5555555555555556,
              "#d8576b"
             ],
             [
              0.6666666666666666,
              "#ed7953"
             ],
             [
              0.7777777777777778,
              "#fb9f3a"
             ],
             [
              0.8888888888888888,
              "#fdca26"
             ],
             [
              1,
              "#f0f921"
             ]
            ],
            "type": "heatmapgl"
           }
          ],
          "histogram": [
           {
            "marker": {
             "pattern": {
              "fillmode": "overlay",
              "size": 10,
              "solidity": 0.2
             }
            },
            "type": "histogram"
           }
          ],
          "histogram2d": [
           {
            "colorbar": {
             "outlinewidth": 0,
             "ticks": ""
            },
            "colorscale": [
             [
              0,
              "#0d0887"
             ],
             [
              0.1111111111111111,
              "#46039f"
             ],
             [
              0.2222222222222222,
              "#7201a8"
             ],
             [
              0.3333333333333333,
              "#9c179e"
             ],
             [
              0.4444444444444444,
              "#bd3786"
             ],
             [
              0.5555555555555556,
              "#d8576b"
             ],
             [
              0.6666666666666666,
              "#ed7953"
             ],
             [
              0.7777777777777778,
              "#fb9f3a"
             ],
             [
              0.8888888888888888,
              "#fdca26"
             ],
             [
              1,
              "#f0f921"
             ]
            ],
            "type": "histogram2d"
           }
          ],
          "histogram2dcontour": [
           {
            "colorbar": {
             "outlinewidth": 0,
             "ticks": ""
            },
            "colorscale": [
             [
              0,
              "#0d0887"
             ],
             [
              0.1111111111111111,
              "#46039f"
             ],
             [
              0.2222222222222222,
              "#7201a8"
             ],
             [
              0.3333333333333333,
              "#9c179e"
             ],
             [
              0.4444444444444444,
              "#bd3786"
             ],
             [
              0.5555555555555556,
              "#d8576b"
             ],
             [
              0.6666666666666666,
              "#ed7953"
             ],
             [
              0.7777777777777778,
              "#fb9f3a"
             ],
             [
              0.8888888888888888,
              "#fdca26"
             ],
             [
              1,
              "#f0f921"
             ]
            ],
            "type": "histogram2dcontour"
           }
          ],
          "mesh3d": [
           {
            "colorbar": {
             "outlinewidth": 0,
             "ticks": ""
            },
            "type": "mesh3d"
           }
          ],
          "parcoords": [
           {
            "line": {
             "colorbar": {
              "outlinewidth": 0,
              "ticks": ""
             }
            },
            "type": "parcoords"
           }
          ],
          "pie": [
           {
            "automargin": true,
            "type": "pie"
           }
          ],
          "scatter": [
           {
            "fillpattern": {
             "fillmode": "overlay",
             "size": 10,
             "solidity": 0.2
            },
            "type": "scatter"
           }
          ],
          "scatter3d": [
           {
            "line": {
             "colorbar": {
              "outlinewidth": 0,
              "ticks": ""
             }
            },
            "marker": {
             "colorbar": {
              "outlinewidth": 0,
              "ticks": ""
             }
            },
            "type": "scatter3d"
           }
          ],
          "scattercarpet": [
           {
            "marker": {
             "colorbar": {
              "outlinewidth": 0,
              "ticks": ""
             }
            },
            "type": "scattercarpet"
           }
          ],
          "scattergeo": [
           {
            "marker": {
             "colorbar": {
              "outlinewidth": 0,
              "ticks": ""
             }
            },
            "type": "scattergeo"
           }
          ],
          "scattergl": [
           {
            "marker": {
             "colorbar": {
              "outlinewidth": 0,
              "ticks": ""
             }
            },
            "type": "scattergl"
           }
          ],
          "scattermapbox": [
           {
            "marker": {
             "colorbar": {
              "outlinewidth": 0,
              "ticks": ""
             }
            },
            "type": "scattermapbox"
           }
          ],
          "scatterpolar": [
           {
            "marker": {
             "colorbar": {
              "outlinewidth": 0,
              "ticks": ""
             }
            },
            "type": "scatterpolar"
           }
          ],
          "scatterpolargl": [
           {
            "marker": {
             "colorbar": {
              "outlinewidth": 0,
              "ticks": ""
             }
            },
            "type": "scatterpolargl"
           }
          ],
          "scatterternary": [
           {
            "marker": {
             "colorbar": {
              "outlinewidth": 0,
              "ticks": ""
             }
            },
            "type": "scatterternary"
           }
          ],
          "surface": [
           {
            "colorbar": {
             "outlinewidth": 0,
             "ticks": ""
            },
            "colorscale": [
             [
              0,
              "#0d0887"
             ],
             [
              0.1111111111111111,
              "#46039f"
             ],
             [
              0.2222222222222222,
              "#7201a8"
             ],
             [
              0.3333333333333333,
              "#9c179e"
             ],
             [
              0.4444444444444444,
              "#bd3786"
             ],
             [
              0.5555555555555556,
              "#d8576b"
             ],
             [
              0.6666666666666666,
              "#ed7953"
             ],
             [
              0.7777777777777778,
              "#fb9f3a"
             ],
             [
              0.8888888888888888,
              "#fdca26"
             ],
             [
              1,
              "#f0f921"
             ]
            ],
            "type": "surface"
           }
          ],
          "table": [
           {
            "cells": {
             "fill": {
              "color": "#EBF0F8"
             },
             "line": {
              "color": "white"
             }
            },
            "header": {
             "fill": {
              "color": "#C8D4E3"
             },
             "line": {
              "color": "white"
             }
            },
            "type": "table"
           }
          ]
         },
         "layout": {
          "annotationdefaults": {
           "arrowcolor": "#2a3f5f",
           "arrowhead": 0,
           "arrowwidth": 1
          },
          "autotypenumbers": "strict",
          "coloraxis": {
           "colorbar": {
            "outlinewidth": 0,
            "ticks": ""
           }
          },
          "colorscale": {
           "diverging": [
            [
             0,
             "#8e0152"
            ],
            [
             0.1,
             "#c51b7d"
            ],
            [
             0.2,
             "#de77ae"
            ],
            [
             0.3,
             "#f1b6da"
            ],
            [
             0.4,
             "#fde0ef"
            ],
            [
             0.5,
             "#f7f7f7"
            ],
            [
             0.6,
             "#e6f5d0"
            ],
            [
             0.7,
             "#b8e186"
            ],
            [
             0.8,
             "#7fbc41"
            ],
            [
             0.9,
             "#4d9221"
            ],
            [
             1,
             "#276419"
            ]
           ],
           "sequential": [
            [
             0,
             "#0d0887"
            ],
            [
             0.1111111111111111,
             "#46039f"
            ],
            [
             0.2222222222222222,
             "#7201a8"
            ],
            [
             0.3333333333333333,
             "#9c179e"
            ],
            [
             0.4444444444444444,
             "#bd3786"
            ],
            [
             0.5555555555555556,
             "#d8576b"
            ],
            [
             0.6666666666666666,
             "#ed7953"
            ],
            [
             0.7777777777777778,
             "#fb9f3a"
            ],
            [
             0.8888888888888888,
             "#fdca26"
            ],
            [
             1,
             "#f0f921"
            ]
           ],
           "sequentialminus": [
            [
             0,
             "#0d0887"
            ],
            [
             0.1111111111111111,
             "#46039f"
            ],
            [
             0.2222222222222222,
             "#7201a8"
            ],
            [
             0.3333333333333333,
             "#9c179e"
            ],
            [
             0.4444444444444444,
             "#bd3786"
            ],
            [
             0.5555555555555556,
             "#d8576b"
            ],
            [
             0.6666666666666666,
             "#ed7953"
            ],
            [
             0.7777777777777778,
             "#fb9f3a"
            ],
            [
             0.8888888888888888,
             "#fdca26"
            ],
            [
             1,
             "#f0f921"
            ]
           ]
          },
          "colorway": [
           "#636efa",
           "#EF553B",
           "#00cc96",
           "#ab63fa",
           "#FFA15A",
           "#19d3f3",
           "#FF6692",
           "#B6E880",
           "#FF97FF",
           "#FECB52"
          ],
          "font": {
           "color": "#2a3f5f"
          },
          "geo": {
           "bgcolor": "white",
           "lakecolor": "white",
           "landcolor": "#E5ECF6",
           "showlakes": true,
           "showland": true,
           "subunitcolor": "white"
          },
          "hoverlabel": {
           "align": "left"
          },
          "hovermode": "closest",
          "mapbox": {
           "style": "light"
          },
          "paper_bgcolor": "white",
          "plot_bgcolor": "#E5ECF6",
          "polar": {
           "angularaxis": {
            "gridcolor": "white",
            "linecolor": "white",
            "ticks": ""
           },
           "bgcolor": "#E5ECF6",
           "radialaxis": {
            "gridcolor": "white",
            "linecolor": "white",
            "ticks": ""
           }
          },
          "scene": {
           "xaxis": {
            "backgroundcolor": "#E5ECF6",
            "gridcolor": "white",
            "gridwidth": 2,
            "linecolor": "white",
            "showbackground": true,
            "ticks": "",
            "zerolinecolor": "white"
           },
           "yaxis": {
            "backgroundcolor": "#E5ECF6",
            "gridcolor": "white",
            "gridwidth": 2,
            "linecolor": "white",
            "showbackground": true,
            "ticks": "",
            "zerolinecolor": "white"
           },
           "zaxis": {
            "backgroundcolor": "#E5ECF6",
            "gridcolor": "white",
            "gridwidth": 2,
            "linecolor": "white",
            "showbackground": true,
            "ticks": "",
            "zerolinecolor": "white"
           }
          },
          "shapedefaults": {
           "line": {
            "color": "#2a3f5f"
           }
          },
          "ternary": {
           "aaxis": {
            "gridcolor": "white",
            "linecolor": "white",
            "ticks": ""
           },
           "baxis": {
            "gridcolor": "white",
            "linecolor": "white",
            "ticks": ""
           },
           "bgcolor": "#E5ECF6",
           "caxis": {
            "gridcolor": "white",
            "linecolor": "white",
            "ticks": ""
           }
          },
          "title": {
           "x": 0.05
          },
          "xaxis": {
           "automargin": true,
           "gridcolor": "white",
           "linecolor": "white",
           "ticks": "",
           "title": {
            "standoff": 15
           },
           "zerolinecolor": "white",
           "zerolinewidth": 2
          },
          "yaxis": {
           "automargin": true,
           "gridcolor": "white",
           "linecolor": "white",
           "ticks": "",
           "title": {
            "standoff": 15
           },
           "zerolinecolor": "white",
           "zerolinewidth": 2
          }
         }
        },
        "title": {
         "font": {
          "color": "CornflowerBlue"
         },
         "text": "Countries with their chocolate brands produced and general quality of them"
        }
       }
      }
     },
     "metadata": {},
     "output_type": "display_data"
    }
   ],
   "source": [
    "def make_map_with(country_df, title: str, title_color: str, colorscale: str='turbid') -> go.Figure:\n",
    "\t'''Makes plotly choropleth for df with columns: ISO, country, number, year_reviewed.\n",
    "\t\tPossible values for colorscale: Blackbody, Bluered, Blues, Cividis,\n",
    "\t\tEarth, Electric, Greens, Greys, Hot, Jet, Picnic, Portland, Rainbow, RdBu,\n",
    "\t\tReds, Viridis, YlGnBu, YlOrRd.\n",
    "\t\t'aggrnyl', 'agsunset', 'algae', 'amp', 'armyrose', 'balance',\n",
    "\t\t'blackbody', 'bluered', 'blues', 'blugrn', 'bluyl', 'brbg',\n",
    "\t\t'brwnyl', 'bugn', 'bupu', 'burg', 'burgyl', 'cividis', 'curl',\n",
    "\t\t'darkmint', 'deep', 'delta', 'dense', 'earth', 'edge', 'electric',\n",
    "\t\t'emrld', 'fall', 'geyser', 'gnbu', 'gray', 'greens', 'greys',\n",
    "\t\t'haline', 'hot', 'hsv', 'ice', 'icefire', 'inferno', 'jet',\n",
    "\t\t'magenta', 'magma', 'matter', 'mint', 'mrybm', 'mygbm', 'oranges',\n",
    "\t\t'orrd', 'oryel', 'oxy', 'peach', 'phase', 'picnic', 'pinkyl',\n",
    "\t\t'piyg', 'plasma', 'plotly3', 'portland', 'prgn', 'pubu', 'pubugn',\n",
    "\t\t'puor', 'purd', 'purp', 'purples', 'purpor', 'rainbow', 'rdbu',\n",
    "\t\t'rdgy', 'rdpu', 'rdylbu', 'rdylgn', 'redor', 'reds', 'solar',\n",
    "\t\t'spectral', 'speed', 'sunset', 'sunsetdark', 'teal', 'tealgrn',\n",
    "\t\t'tealrose', 'tempo', 'temps', 'thermal', 'tropic', 'turbid',\n",
    "\t\t'turbo', 'twilight', 'viridis', 'ylgn', 'ylgnbu', 'ylorbr',\n",
    "\t\t'ylorrd'''\n",
    "\n",
    "\treturn go.Figure(data=go.Choropleth(\n",
    "\t\tlocations=country_df['ISO'],\n",
    "\t\ttext=country_df['country'],\n",
    "\t\tmarker_line_color='black',\n",
    "\t\tmarker_line_width=0.5,\n",
    "\t\tautocolorscale=False,\n",
    "\t\tcolorscale=colorscale,\n",
    "\t\tcolorbar={'title': 'Rating', 'title.font': {'color': 'DarkBlue', 'size': 15}},\n",
    "\t\tz=choc_df['rating'],\n",
    "\t\tcustomdata=choc_df[['number', 'year_reviewed', 'ISO']],\n",
    "\t\thovertemplate=\"<br>\".join([\n",
    "\t\t\t\"<b>%{text}</b>\",\n",
    "\t\t\t\"Number of brands: %{customdata[0]}\",\n",
    "\t\t\t\"Rating: %{z}\",\n",
    "\t\t\t\"Average year of reviews: %{customdata[1]}\"\n",
    "\t\t]) + '<extra>%{customdata[2]}</extra>',\n",
    "\t), layout=dict(title=title,\n",
    "\t\t\tgeo=dict(\n",
    "\t\t\t\tshowcountries=True,\n",
    "\t\t\t\tcountrycolor='#444444',\n",
    "\t\t\t\tshowlakes=False,\n",
    "\t\t\t\tlataxis_range=[-59, 90]\n",
    "\t\t\t)\n",
    "\t\t\t) | {'title.font': {'color': title_color}}\n",
    "\t)\n",
    "go.Choropleth\n",
    "make_map_with(choc_df, 'Countries with their chocolate brands produced and general quality of them', 'CornflowerBlue')"
   ]
  },
  {
   "cell_type": "code",
   "execution_count": 201,
   "id": "93c21c27",
   "metadata": {},
   "outputs": [
    {
     "data": {
      "application/vnd.plotly.v1+json": {
       "config": {
        "plotlyServerURL": "https://plot.ly"
       },
       "data": [
        {
         "autocolorscale": false,
         "colorbar": {
          "title": {
           "font": {
            "color": "DarkBlue",
            "size": 15
           },
           "text": "Rating"
          }
         },
         "colorscale": [
          [
           0,
           "rgb(232, 245, 171)"
          ],
          [
           0.09090909090909091,
           "rgb(220, 219, 137)"
          ],
          [
           0.18181818181818182,
           "rgb(209, 193, 107)"
          ],
          [
           0.2727272727272727,
           "rgb(199, 168, 83)"
          ],
          [
           0.36363636363636365,
           "rgb(186, 143, 66)"
          ],
          [
           0.45454545454545453,
           "rgb(170, 121, 60)"
          ],
          [
           0.5454545454545454,
           "rgb(151, 103, 58)"
          ],
          [
           0.6363636363636364,
           "rgb(129, 87, 56)"
          ],
          [
           0.7272727272727273,
           "rgb(104, 72, 53)"
          ],
          [
           0.8181818181818182,
           "rgb(80, 59, 46)"
          ],
          [
           0.9090909090909091,
           "rgb(57, 45, 37)"
          ],
          [
           1,
           "rgb(34, 30, 27)"
          ]
         ],
         "customdata": [
          [
           9,
           2008,
           "ARG"
          ],
          [
           53,
           2015,
           "AUS"
          ],
          [
           30,
           2012,
           "AUT"
          ],
          [
           63,
           2013,
           "BEL"
          ],
          [
           2,
           2009.5,
           "BOL"
          ],
          [
           25,
           2015,
           "BRA"
          ],
          [
           177,
           2015,
           "CAN"
          ],
          [
           2,
           2017,
           "CHL"
          ],
          [
           29,
           2014,
           "COL"
          ],
          [
           9,
           2015,
           "CRI"
          ],
          [
           3,
           2020,
           "CZE"
          ],
          [
           31,
           2017,
           "DNK"
          ],
          [
           11,
           2018,
           "DOM"
          ],
          [
           58,
           2009,
           "ECU"
          ],
          [
           3,
           2019,
           "SLV"
          ],
          [
           4,
           2011,
           "FJI"
          ],
          [
           2,
           2015,
           "FIN"
          ],
          [
           176,
           2012.5,
           "FRA"
          ],
          [
           42,
           2012.5,
           "DEU"
          ],
          [
           1,
           2011,
           "GHA"
          ],
          [
           3,
           2009,
           "GRD"
          ],
          [
           10,
           2012,
           "GTM"
          ],
          [
           6,
           2014,
           "HND"
          ],
          [
           26,
           2013,
           "HUN"
          ],
          [
           4,
           2015,
           "ISL"
          ],
          [
           2,
           2016.5,
           "IND"
          ],
          [
           5,
           2013,
           "IRL"
          ],
          [
           9,
           2015,
           "ISR"
          ],
          [
           78,
           2011,
           "ITA"
          ],
          [
           31,
           2016,
           "JPN"
          ],
          [
           8,
           2014,
           "LTU"
          ],
          [
           17,
           2009,
           "MDG"
          ],
          [
           3,
           2019,
           "MYS"
          ],
          [
           1,
           2013,
           "MTQ"
          ],
          [
           10,
           2018,
           "MEX"
          ],
          [
           20,
           2017,
           "NLD"
          ],
          [
           27,
           2016,
           "NZL"
          ],
          [
           10,
           2015,
           "NIC"
          ],
          [
           3,
           2018,
           "NOR"
          ],
          [
           23,
           2015,
           "PER"
          ],
          [
           5,
           2018,
           "PHL"
          ],
          [
           8,
           2013,
           "POL"
          ],
          [
           3,
           2016,
           "PRT"
          ],
          [
           4,
           2015.5,
           "PRI"
          ],
          [
           3,
           2017,
           "RUS"
          ],
          [
           8,
           2014.5,
           "STP"
          ],
          [
           15,
           2018,
           "SGP"
          ],
          [
           4,
           2016,
           "ZAF"
          ],
          [
           11,
           2018,
           "KOR"
          ],
          [
           36,
           2010,
           "ESP"
          ],
          [
           3,
           2013,
           "LCA"
          ],
          [
           1,
           2018,
           "VCT"
          ],
          [
           1,
           2016,
           "SUR"
          ],
          [
           6,
           2015,
           "SWE"
          ],
          [
           44,
           2011,
           "CHE"
          ],
          [
           10,
           2018,
           "TWN"
          ],
          [
           5,
           2018,
           "THA"
          ],
          [
           5,
           2017,
           "ARE"
          ],
          [
           145,
           2014,
           "GBR"
          ],
          [
           1136,
           2015,
           "USA"
          ],
          [
           4,
           2019,
           "VUT"
          ],
          [
           31,
           2015,
           "VEN"
          ],
          [
           16,
           2014,
           "VNM"
          ]
         ],
         "hovertemplate": "<b>%{text}</b><br>Number of brands: %{customdata[0]}<br>Rating: %{z}<br>Average year of reviews: %{customdata[1]}<extra>%{customdata[2]}</extra>",
         "locations": [
          "AUS",
          "BLZ",
          null,
          "BOL",
          "BRA",
          "MMR",
          "CMR",
          "CHN",
          "COL",
          "COG",
          "CRI",
          "CUB",
          "COD",
          "DOM",
          "ECU",
          "SLV",
          "FJI",
          "GAB",
          "GHA",
          "GRD",
          "GTM",
          "HTI",
          "HND",
          "IND",
          "IDN",
          "CIV",
          "JAM",
          "LBR",
          "MDG",
          "MYS",
          "MTQ",
          "MEX",
          "NIC",
          "NGA",
          "PAN",
          "PNG",
          "PER",
          "PHL",
          "PRI",
          "WSM",
          "STP",
          "SLE",
          "SLB",
          "LKA",
          "LCA",
          "VCT",
          "SUR",
          "TWN",
          "TZA",
          "THA",
          "TGO",
          "TTO",
          "USA",
          "UGA",
          "VUT",
          "VEN",
          "VNM"
         ],
         "marker": {
          "line": {
           "color": "black",
           "width": 0.5
          }
         },
         "text": [
          "Australia",
          "Belize",
          "Blend",
          "Bolivia",
          "Brazil",
          "Burma",
          "Cameroon",
          "China",
          "Colombia",
          "Congo",
          "Costa Rica",
          "Cuba",
          "DR Congo",
          "Dominican Republic",
          "Ecuador",
          "El Salvador",
          "Fiji",
          "Gabon",
          "Ghana",
          "Grenada",
          "Guatemala",
          "Haiti",
          "Honduras",
          "India",
          "Indonesia",
          "Ivory Coast",
          "Jamaica",
          "Liberia",
          "Madagascar",
          "Malaysia",
          "Martinique",
          "Mexico",
          "Nicaragua",
          "Nigeria",
          "Panama",
          "Papua New Guinea",
          "Peru",
          "Philippines",
          "Puerto Rico",
          "Samoa",
          "Sao Tome & Principe",
          "Sierra Leone",
          "Solomon Islands",
          "Sri Lanka",
          "St. Lucia",
          "St.Vincent-Grenadines",
          "Suriname",
          "Taiwan",
          "Tanzania",
          "Thailand",
          "Togo",
          "Trinidad and Tobago",
          "U.S.A.",
          "Uganda",
          "Vanuatu",
          "Venezuela",
          "Vietnam"
         ],
         "type": "choropleth",
         "z": [
          3.5,
          3.5,
          3.25,
          3,
          3.25,
          3.25,
          3.25,
          3.75,
          3.25,
          3.25,
          2.75,
          3.25,
          3,
          3,
          3,
          3.375,
          3.25,
          3.25,
          3.25,
          2.75,
          2.75,
          3.25,
          3.25,
          3.25,
          3.25,
          2.625,
          2.75,
          3.5,
          3.25,
          3.25,
          3.125,
          3.25,
          2.75,
          2.75,
          3,
          3.25,
          3.25,
          3.125,
          3.5,
          3.25,
          3,
          3.5,
          2.75,
          2.625,
          3.25,
          3,
          3,
          2.75,
          3.25,
          3.25,
          2.75,
          2.75,
          3.25,
          3,
          3.25,
          3.125,
          3.5,
          3.5,
          3,
          3.25,
          2.75,
          3,
          3.5
         ]
        }
       ],
       "layout": {
        "geo": {
         "countrycolor": "#444444",
         "lataxis": {
          "range": [
           -59,
           90
          ]
         },
         "showcountries": true,
         "showlakes": false
        },
        "template": {
         "data": {
          "bar": [
           {
            "error_x": {
             "color": "#2a3f5f"
            },
            "error_y": {
             "color": "#2a3f5f"
            },
            "marker": {
             "line": {
              "color": "#E5ECF6",
              "width": 0.5
             },
             "pattern": {
              "fillmode": "overlay",
              "size": 10,
              "solidity": 0.2
             }
            },
            "type": "bar"
           }
          ],
          "barpolar": [
           {
            "marker": {
             "line": {
              "color": "#E5ECF6",
              "width": 0.5
             },
             "pattern": {
              "fillmode": "overlay",
              "size": 10,
              "solidity": 0.2
             }
            },
            "type": "barpolar"
           }
          ],
          "carpet": [
           {
            "aaxis": {
             "endlinecolor": "#2a3f5f",
             "gridcolor": "white",
             "linecolor": "white",
             "minorgridcolor": "white",
             "startlinecolor": "#2a3f5f"
            },
            "baxis": {
             "endlinecolor": "#2a3f5f",
             "gridcolor": "white",
             "linecolor": "white",
             "minorgridcolor": "white",
             "startlinecolor": "#2a3f5f"
            },
            "type": "carpet"
           }
          ],
          "choropleth": [
           {
            "colorbar": {
             "outlinewidth": 0,
             "ticks": ""
            },
            "type": "choropleth"
           }
          ],
          "contour": [
           {
            "colorbar": {
             "outlinewidth": 0,
             "ticks": ""
            },
            "colorscale": [
             [
              0,
              "#0d0887"
             ],
             [
              0.1111111111111111,
              "#46039f"
             ],
             [
              0.2222222222222222,
              "#7201a8"
             ],
             [
              0.3333333333333333,
              "#9c179e"
             ],
             [
              0.4444444444444444,
              "#bd3786"
             ],
             [
              0.5555555555555556,
              "#d8576b"
             ],
             [
              0.6666666666666666,
              "#ed7953"
             ],
             [
              0.7777777777777778,
              "#fb9f3a"
             ],
             [
              0.8888888888888888,
              "#fdca26"
             ],
             [
              1,
              "#f0f921"
             ]
            ],
            "type": "contour"
           }
          ],
          "contourcarpet": [
           {
            "colorbar": {
             "outlinewidth": 0,
             "ticks": ""
            },
            "type": "contourcarpet"
           }
          ],
          "heatmap": [
           {
            "colorbar": {
             "outlinewidth": 0,
             "ticks": ""
            },
            "colorscale": [
             [
              0,
              "#0d0887"
             ],
             [
              0.1111111111111111,
              "#46039f"
             ],
             [
              0.2222222222222222,
              "#7201a8"
             ],
             [
              0.3333333333333333,
              "#9c179e"
             ],
             [
              0.4444444444444444,
              "#bd3786"
             ],
             [
              0.5555555555555556,
              "#d8576b"
             ],
             [
              0.6666666666666666,
              "#ed7953"
             ],
             [
              0.7777777777777778,
              "#fb9f3a"
             ],
             [
              0.8888888888888888,
              "#fdca26"
             ],
             [
              1,
              "#f0f921"
             ]
            ],
            "type": "heatmap"
           }
          ],
          "heatmapgl": [
           {
            "colorbar": {
             "outlinewidth": 0,
             "ticks": ""
            },
            "colorscale": [
             [
              0,
              "#0d0887"
             ],
             [
              0.1111111111111111,
              "#46039f"
             ],
             [
              0.2222222222222222,
              "#7201a8"
             ],
             [
              0.3333333333333333,
              "#9c179e"
             ],
             [
              0.4444444444444444,
              "#bd3786"
             ],
             [
              0.5555555555555556,
              "#d8576b"
             ],
             [
              0.6666666666666666,
              "#ed7953"
             ],
             [
              0.7777777777777778,
              "#fb9f3a"
             ],
             [
              0.8888888888888888,
              "#fdca26"
             ],
             [
              1,
              "#f0f921"
             ]
            ],
            "type": "heatmapgl"
           }
          ],
          "histogram": [
           {
            "marker": {
             "pattern": {
              "fillmode": "overlay",
              "size": 10,
              "solidity": 0.2
             }
            },
            "type": "histogram"
           }
          ],
          "histogram2d": [
           {
            "colorbar": {
             "outlinewidth": 0,
             "ticks": ""
            },
            "colorscale": [
             [
              0,
              "#0d0887"
             ],
             [
              0.1111111111111111,
              "#46039f"
             ],
             [
              0.2222222222222222,
              "#7201a8"
             ],
             [
              0.3333333333333333,
              "#9c179e"
             ],
             [
              0.4444444444444444,
              "#bd3786"
             ],
             [
              0.5555555555555556,
              "#d8576b"
             ],
             [
              0.6666666666666666,
              "#ed7953"
             ],
             [
              0.7777777777777778,
              "#fb9f3a"
             ],
             [
              0.8888888888888888,
              "#fdca26"
             ],
             [
              1,
              "#f0f921"
             ]
            ],
            "type": "histogram2d"
           }
          ],
          "histogram2dcontour": [
           {
            "colorbar": {
             "outlinewidth": 0,
             "ticks": ""
            },
            "colorscale": [
             [
              0,
              "#0d0887"
             ],
             [
              0.1111111111111111,
              "#46039f"
             ],
             [
              0.2222222222222222,
              "#7201a8"
             ],
             [
              0.3333333333333333,
              "#9c179e"
             ],
             [
              0.4444444444444444,
              "#bd3786"
             ],
             [
              0.5555555555555556,
              "#d8576b"
             ],
             [
              0.6666666666666666,
              "#ed7953"
             ],
             [
              0.7777777777777778,
              "#fb9f3a"
             ],
             [
              0.8888888888888888,
              "#fdca26"
             ],
             [
              1,
              "#f0f921"
             ]
            ],
            "type": "histogram2dcontour"
           }
          ],
          "mesh3d": [
           {
            "colorbar": {
             "outlinewidth": 0,
             "ticks": ""
            },
            "type": "mesh3d"
           }
          ],
          "parcoords": [
           {
            "line": {
             "colorbar": {
              "outlinewidth": 0,
              "ticks": ""
             }
            },
            "type": "parcoords"
           }
          ],
          "pie": [
           {
            "automargin": true,
            "type": "pie"
           }
          ],
          "scatter": [
           {
            "fillpattern": {
             "fillmode": "overlay",
             "size": 10,
             "solidity": 0.2
            },
            "type": "scatter"
           }
          ],
          "scatter3d": [
           {
            "line": {
             "colorbar": {
              "outlinewidth": 0,
              "ticks": ""
             }
            },
            "marker": {
             "colorbar": {
              "outlinewidth": 0,
              "ticks": ""
             }
            },
            "type": "scatter3d"
           }
          ],
          "scattercarpet": [
           {
            "marker": {
             "colorbar": {
              "outlinewidth": 0,
              "ticks": ""
             }
            },
            "type": "scattercarpet"
           }
          ],
          "scattergeo": [
           {
            "marker": {
             "colorbar": {
              "outlinewidth": 0,
              "ticks": ""
             }
            },
            "type": "scattergeo"
           }
          ],
          "scattergl": [
           {
            "marker": {
             "colorbar": {
              "outlinewidth": 0,
              "ticks": ""
             }
            },
            "type": "scattergl"
           }
          ],
          "scattermapbox": [
           {
            "marker": {
             "colorbar": {
              "outlinewidth": 0,
              "ticks": ""
             }
            },
            "type": "scattermapbox"
           }
          ],
          "scatterpolar": [
           {
            "marker": {
             "colorbar": {
              "outlinewidth": 0,
              "ticks": ""
             }
            },
            "type": "scatterpolar"
           }
          ],
          "scatterpolargl": [
           {
            "marker": {
             "colorbar": {
              "outlinewidth": 0,
              "ticks": ""
             }
            },
            "type": "scatterpolargl"
           }
          ],
          "scatterternary": [
           {
            "marker": {
             "colorbar": {
              "outlinewidth": 0,
              "ticks": ""
             }
            },
            "type": "scatterternary"
           }
          ],
          "surface": [
           {
            "colorbar": {
             "outlinewidth": 0,
             "ticks": ""
            },
            "colorscale": [
             [
              0,
              "#0d0887"
             ],
             [
              0.1111111111111111,
              "#46039f"
             ],
             [
              0.2222222222222222,
              "#7201a8"
             ],
             [
              0.3333333333333333,
              "#9c179e"
             ],
             [
              0.4444444444444444,
              "#bd3786"
             ],
             [
              0.5555555555555556,
              "#d8576b"
             ],
             [
              0.6666666666666666,
              "#ed7953"
             ],
             [
              0.7777777777777778,
              "#fb9f3a"
             ],
             [
              0.8888888888888888,
              "#fdca26"
             ],
             [
              1,
              "#f0f921"
             ]
            ],
            "type": "surface"
           }
          ],
          "table": [
           {
            "cells": {
             "fill": {
              "color": "#EBF0F8"
             },
             "line": {
              "color": "white"
             }
            },
            "header": {
             "fill": {
              "color": "#C8D4E3"
             },
             "line": {
              "color": "white"
             }
            },
            "type": "table"
           }
          ]
         },
         "layout": {
          "annotationdefaults": {
           "arrowcolor": "#2a3f5f",
           "arrowhead": 0,
           "arrowwidth": 1
          },
          "autotypenumbers": "strict",
          "coloraxis": {
           "colorbar": {
            "outlinewidth": 0,
            "ticks": ""
           }
          },
          "colorscale": {
           "diverging": [
            [
             0,
             "#8e0152"
            ],
            [
             0.1,
             "#c51b7d"
            ],
            [
             0.2,
             "#de77ae"
            ],
            [
             0.3,
             "#f1b6da"
            ],
            [
             0.4,
             "#fde0ef"
            ],
            [
             0.5,
             "#f7f7f7"
            ],
            [
             0.6,
             "#e6f5d0"
            ],
            [
             0.7,
             "#b8e186"
            ],
            [
             0.8,
             "#7fbc41"
            ],
            [
             0.9,
             "#4d9221"
            ],
            [
             1,
             "#276419"
            ]
           ],
           "sequential": [
            [
             0,
             "#0d0887"
            ],
            [
             0.1111111111111111,
             "#46039f"
            ],
            [
             0.2222222222222222,
             "#7201a8"
            ],
            [
             0.3333333333333333,
             "#9c179e"
            ],
            [
             0.4444444444444444,
             "#bd3786"
            ],
            [
             0.5555555555555556,
             "#d8576b"
            ],
            [
             0.6666666666666666,
             "#ed7953"
            ],
            [
             0.7777777777777778,
             "#fb9f3a"
            ],
            [
             0.8888888888888888,
             "#fdca26"
            ],
            [
             1,
             "#f0f921"
            ]
           ],
           "sequentialminus": [
            [
             0,
             "#0d0887"
            ],
            [
             0.1111111111111111,
             "#46039f"
            ],
            [
             0.2222222222222222,
             "#7201a8"
            ],
            [
             0.3333333333333333,
             "#9c179e"
            ],
            [
             0.4444444444444444,
             "#bd3786"
            ],
            [
             0.5555555555555556,
             "#d8576b"
            ],
            [
             0.6666666666666666,
             "#ed7953"
            ],
            [
             0.7777777777777778,
             "#fb9f3a"
            ],
            [
             0.8888888888888888,
             "#fdca26"
            ],
            [
             1,
             "#f0f921"
            ]
           ]
          },
          "colorway": [
           "#636efa",
           "#EF553B",
           "#00cc96",
           "#ab63fa",
           "#FFA15A",
           "#19d3f3",
           "#FF6692",
           "#B6E880",
           "#FF97FF",
           "#FECB52"
          ],
          "font": {
           "color": "#2a3f5f"
          },
          "geo": {
           "bgcolor": "white",
           "lakecolor": "white",
           "landcolor": "#E5ECF6",
           "showlakes": true,
           "showland": true,
           "subunitcolor": "white"
          },
          "hoverlabel": {
           "align": "left"
          },
          "hovermode": "closest",
          "mapbox": {
           "style": "light"
          },
          "paper_bgcolor": "white",
          "plot_bgcolor": "#E5ECF6",
          "polar": {
           "angularaxis": {
            "gridcolor": "white",
            "linecolor": "white",
            "ticks": ""
           },
           "bgcolor": "#E5ECF6",
           "radialaxis": {
            "gridcolor": "white",
            "linecolor": "white",
            "ticks": ""
           }
          },
          "scene": {
           "xaxis": {
            "backgroundcolor": "#E5ECF6",
            "gridcolor": "white",
            "gridwidth": 2,
            "linecolor": "white",
            "showbackground": true,
            "ticks": "",
            "zerolinecolor": "white"
           },
           "yaxis": {
            "backgroundcolor": "#E5ECF6",
            "gridcolor": "white",
            "gridwidth": 2,
            "linecolor": "white",
            "showbackground": true,
            "ticks": "",
            "zerolinecolor": "white"
           },
           "zaxis": {
            "backgroundcolor": "#E5ECF6",
            "gridcolor": "white",
            "gridwidth": 2,
            "linecolor": "white",
            "showbackground": true,
            "ticks": "",
            "zerolinecolor": "white"
           }
          },
          "shapedefaults": {
           "line": {
            "color": "#2a3f5f"
           }
          },
          "ternary": {
           "aaxis": {
            "gridcolor": "white",
            "linecolor": "white",
            "ticks": ""
           },
           "baxis": {
            "gridcolor": "white",
            "linecolor": "white",
            "ticks": ""
           },
           "bgcolor": "#E5ECF6",
           "caxis": {
            "gridcolor": "white",
            "linecolor": "white",
            "ticks": ""
           }
          },
          "title": {
           "x": 0.05
          },
          "xaxis": {
           "automargin": true,
           "gridcolor": "white",
           "linecolor": "white",
           "ticks": "",
           "title": {
            "standoff": 15
           },
           "zerolinecolor": "white",
           "zerolinewidth": 2
          },
          "yaxis": {
           "automargin": true,
           "gridcolor": "white",
           "linecolor": "white",
           "ticks": "",
           "title": {
            "standoff": 15
           },
           "zerolinecolor": "white",
           "zerolinewidth": 2
          }
         }
        },
        "title": {
         "font": {
          "color": "#ffdb58"
         },
         "text": "Countries-providers of cocoa beans for chocolate brands and general quality of those"
        }
       }
      }
     },
     "metadata": {},
     "output_type": "display_data"
    }
   ],
   "source": [
    "make_map_with(bean_df, 'Countries-providers of cocoa beans for chocolate brands and general quality of those', '#ffdb58')"
   ]
  },
  {
   "cell_type": "code",
   "execution_count": null,
   "id": "6fbc2fac",
   "metadata": {},
   "outputs": [],
   "source": []
  }
 ],
 "metadata": {
  "kernelspec": {
   "display_name": "Python 3.10.6 ('geo_env')",
   "language": "python",
   "name": "python3"
  },
  "language_info": {
   "codemirror_mode": {
    "name": "ipython",
    "version": 3
   },
   "file_extension": ".py",
   "mimetype": "text/x-python",
   "name": "python",
   "nbconvert_exporter": "python",
   "pygments_lexer": "ipython3",
   "version": "3.10.6"
  },
  "vscode": {
   "interpreter": {
    "hash": "3fd6b8dbdd7b5bc05fbd7630de8843ec595fb747100b76841578d0d7112ce6ae"
   }
  }
 },
 "nbformat": 4,
 "nbformat_minor": 5
}
